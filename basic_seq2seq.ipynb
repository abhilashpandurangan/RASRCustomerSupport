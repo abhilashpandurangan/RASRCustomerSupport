{
  "nbformat": 4,
  "nbformat_minor": 0,
  "metadata": {
    "language_info": {
      "codemirror_mode": {
        "version": 3,
        "name": "ipython"
      },
      "version": "3.6.3",
      "pygments_lexer": "ipython3",
      "file_extension": ".py",
      "mimetype": "text/x-python",
      "nbconvert_exporter": "python",
      "name": "python"
    },
    "kernelspec": {
      "name": "python3",
      "display_name": "Python 3"
    },
    "colab": {
      "name": "basic-seq2seq.ipynb",
      "provenance": [],
      "include_colab_link": true
    },
    "widgets": {
      "application/vnd.jupyter.widget-state+json": {
        "9c629e3840f34264b8d64d567130e8ff": {
          "model_module": "@jupyter-widgets/controls",
          "model_name": "HBoxModel",
          "state": {
            "_view_name": "HBoxView",
            "_dom_classes": [],
            "_model_name": "HBoxModel",
            "_view_module": "@jupyter-widgets/controls",
            "_model_module_version": "1.5.0",
            "_view_count": null,
            "_view_module_version": "1.5.0",
            "box_style": "",
            "layout": "IPY_MODEL_3bfbe913bde24945a44ea9b943a5f770",
            "_model_module": "@jupyter-widgets/controls",
            "children": [
              "IPY_MODEL_02a9a041499d4ae8aab2d4dafd6e2f1d",
              "IPY_MODEL_04e31ba28a3b4c2e9bd1928cdf8d7699"
            ]
          }
        },
        "3bfbe913bde24945a44ea9b943a5f770": {
          "model_module": "@jupyter-widgets/base",
          "model_name": "LayoutModel",
          "state": {
            "_view_name": "LayoutView",
            "grid_template_rows": null,
            "right": null,
            "justify_content": null,
            "_view_module": "@jupyter-widgets/base",
            "overflow": null,
            "_model_module_version": "1.2.0",
            "_view_count": null,
            "flex_flow": null,
            "width": null,
            "min_width": null,
            "border": null,
            "align_items": null,
            "bottom": null,
            "_model_module": "@jupyter-widgets/base",
            "top": null,
            "grid_column": null,
            "overflow_y": null,
            "overflow_x": null,
            "grid_auto_flow": null,
            "grid_area": null,
            "grid_template_columns": null,
            "flex": null,
            "_model_name": "LayoutModel",
            "justify_items": null,
            "grid_row": null,
            "max_height": null,
            "align_content": null,
            "visibility": null,
            "align_self": null,
            "height": null,
            "min_height": null,
            "padding": null,
            "grid_auto_rows": null,
            "grid_gap": null,
            "max_width": null,
            "order": null,
            "_view_module_version": "1.2.0",
            "grid_template_areas": null,
            "object_position": null,
            "object_fit": null,
            "grid_auto_columns": null,
            "margin": null,
            "display": null,
            "left": null
          }
        },
        "02a9a041499d4ae8aab2d4dafd6e2f1d": {
          "model_module": "@jupyter-widgets/controls",
          "model_name": "IntProgressModel",
          "state": {
            "_view_name": "ProgressView",
            "style": "IPY_MODEL_aee73ef1fb9047cf933a3f12e754f574",
            "_dom_classes": [],
            "description": "100%",
            "_model_name": "IntProgressModel",
            "bar_style": "success",
            "max": 794299,
            "_view_module": "@jupyter-widgets/controls",
            "_model_module_version": "1.5.0",
            "value": 794299,
            "_view_count": null,
            "_view_module_version": "1.5.0",
            "orientation": "horizontal",
            "min": 0,
            "description_tooltip": null,
            "_model_module": "@jupyter-widgets/controls",
            "layout": "IPY_MODEL_438bac9c35384b74af4cb4dfaebb4ce1"
          }
        },
        "04e31ba28a3b4c2e9bd1928cdf8d7699": {
          "model_module": "@jupyter-widgets/controls",
          "model_name": "HTMLModel",
          "state": {
            "_view_name": "HTMLView",
            "style": "IPY_MODEL_3708239233414e0fa029689b3cf0d14f",
            "_dom_classes": [],
            "description": "",
            "_model_name": "HTMLModel",
            "placeholder": "​",
            "_view_module": "@jupyter-widgets/controls",
            "_model_module_version": "1.5.0",
            "value": " 794299/794299 [02:02&lt;00:00, 6485.12it/s]",
            "_view_count": null,
            "_view_module_version": "1.5.0",
            "description_tooltip": null,
            "_model_module": "@jupyter-widgets/controls",
            "layout": "IPY_MODEL_5ad29fd2181449d39b8934b2761a5f59"
          }
        },
        "aee73ef1fb9047cf933a3f12e754f574": {
          "model_module": "@jupyter-widgets/controls",
          "model_name": "ProgressStyleModel",
          "state": {
            "_view_name": "StyleView",
            "_model_name": "ProgressStyleModel",
            "description_width": "initial",
            "_view_module": "@jupyter-widgets/base",
            "_model_module_version": "1.5.0",
            "_view_count": null,
            "_view_module_version": "1.2.0",
            "bar_color": null,
            "_model_module": "@jupyter-widgets/controls"
          }
        },
        "438bac9c35384b74af4cb4dfaebb4ce1": {
          "model_module": "@jupyter-widgets/base",
          "model_name": "LayoutModel",
          "state": {
            "_view_name": "LayoutView",
            "grid_template_rows": null,
            "right": null,
            "justify_content": null,
            "_view_module": "@jupyter-widgets/base",
            "overflow": null,
            "_model_module_version": "1.2.0",
            "_view_count": null,
            "flex_flow": null,
            "width": null,
            "min_width": null,
            "border": null,
            "align_items": null,
            "bottom": null,
            "_model_module": "@jupyter-widgets/base",
            "top": null,
            "grid_column": null,
            "overflow_y": null,
            "overflow_x": null,
            "grid_auto_flow": null,
            "grid_area": null,
            "grid_template_columns": null,
            "flex": null,
            "_model_name": "LayoutModel",
            "justify_items": null,
            "grid_row": null,
            "max_height": null,
            "align_content": null,
            "visibility": null,
            "align_self": null,
            "height": null,
            "min_height": null,
            "padding": null,
            "grid_auto_rows": null,
            "grid_gap": null,
            "max_width": null,
            "order": null,
            "_view_module_version": "1.2.0",
            "grid_template_areas": null,
            "object_position": null,
            "object_fit": null,
            "grid_auto_columns": null,
            "margin": null,
            "display": null,
            "left": null
          }
        },
        "3708239233414e0fa029689b3cf0d14f": {
          "model_module": "@jupyter-widgets/controls",
          "model_name": "DescriptionStyleModel",
          "state": {
            "_view_name": "StyleView",
            "_model_name": "DescriptionStyleModel",
            "description_width": "",
            "_view_module": "@jupyter-widgets/base",
            "_model_module_version": "1.5.0",
            "_view_count": null,
            "_view_module_version": "1.2.0",
            "_model_module": "@jupyter-widgets/controls"
          }
        },
        "5ad29fd2181449d39b8934b2761a5f59": {
          "model_module": "@jupyter-widgets/base",
          "model_name": "LayoutModel",
          "state": {
            "_view_name": "LayoutView",
            "grid_template_rows": null,
            "right": null,
            "justify_content": null,
            "_view_module": "@jupyter-widgets/base",
            "overflow": null,
            "_model_module_version": "1.2.0",
            "_view_count": null,
            "flex_flow": null,
            "width": null,
            "min_width": null,
            "border": null,
            "align_items": null,
            "bottom": null,
            "_model_module": "@jupyter-widgets/base",
            "top": null,
            "grid_column": null,
            "overflow_y": null,
            "overflow_x": null,
            "grid_auto_flow": null,
            "grid_area": null,
            "grid_template_columns": null,
            "flex": null,
            "_model_name": "LayoutModel",
            "justify_items": null,
            "grid_row": null,
            "max_height": null,
            "align_content": null,
            "visibility": null,
            "align_self": null,
            "height": null,
            "min_height": null,
            "padding": null,
            "grid_auto_rows": null,
            "grid_gap": null,
            "max_width": null,
            "order": null,
            "_view_module_version": "1.2.0",
            "grid_template_areas": null,
            "object_position": null,
            "object_fit": null,
            "grid_auto_columns": null,
            "margin": null,
            "display": null,
            "left": null
          }
        },
        "aaa983691f1e4ce7a0c8bc06605036cf": {
          "model_module": "@jupyter-widgets/controls",
          "model_name": "HBoxModel",
          "state": {
            "_view_name": "HBoxView",
            "_dom_classes": [],
            "_model_name": "HBoxModel",
            "_view_module": "@jupyter-widgets/controls",
            "_model_module_version": "1.5.0",
            "_view_count": null,
            "_view_module_version": "1.5.0",
            "box_style": "",
            "layout": "IPY_MODEL_e9290c13cf6e442ca8abdb43b0f87a91",
            "_model_module": "@jupyter-widgets/controls",
            "children": [
              "IPY_MODEL_337769fd9da647e38edca0170760441c",
              "IPY_MODEL_0708bf36a7d24d91b1432280b0f6402a"
            ]
          }
        },
        "e9290c13cf6e442ca8abdb43b0f87a91": {
          "model_module": "@jupyter-widgets/base",
          "model_name": "LayoutModel",
          "state": {
            "_view_name": "LayoutView",
            "grid_template_rows": null,
            "right": null,
            "justify_content": null,
            "_view_module": "@jupyter-widgets/base",
            "overflow": null,
            "_model_module_version": "1.2.0",
            "_view_count": null,
            "flex_flow": null,
            "width": null,
            "min_width": null,
            "border": null,
            "align_items": null,
            "bottom": null,
            "_model_module": "@jupyter-widgets/base",
            "top": null,
            "grid_column": null,
            "overflow_y": null,
            "overflow_x": null,
            "grid_auto_flow": null,
            "grid_area": null,
            "grid_template_columns": null,
            "flex": null,
            "_model_name": "LayoutModel",
            "justify_items": null,
            "grid_row": null,
            "max_height": null,
            "align_content": null,
            "visibility": null,
            "align_self": null,
            "height": null,
            "min_height": null,
            "padding": null,
            "grid_auto_rows": null,
            "grid_gap": null,
            "max_width": null,
            "order": null,
            "_view_module_version": "1.2.0",
            "grid_template_areas": null,
            "object_position": null,
            "object_fit": null,
            "grid_auto_columns": null,
            "margin": null,
            "display": null,
            "left": null
          }
        },
        "337769fd9da647e38edca0170760441c": {
          "model_module": "@jupyter-widgets/controls",
          "model_name": "IntProgressModel",
          "state": {
            "_view_name": "ProgressView",
            "style": "IPY_MODEL_c680287b864943679f5b81311f762d61",
            "_dom_classes": [],
            "description": "100%",
            "_model_name": "IntProgressModel",
            "bar_style": "success",
            "max": 794299,
            "_view_module": "@jupyter-widgets/controls",
            "_model_module_version": "1.5.0",
            "value": 794299,
            "_view_count": null,
            "_view_module_version": "1.5.0",
            "orientation": "horizontal",
            "min": 0,
            "description_tooltip": null,
            "_model_module": "@jupyter-widgets/controls",
            "layout": "IPY_MODEL_fc3676428cf940139d5612c0d7d153b1"
          }
        },
        "0708bf36a7d24d91b1432280b0f6402a": {
          "model_module": "@jupyter-widgets/controls",
          "model_name": "HTMLModel",
          "state": {
            "_view_name": "HTMLView",
            "style": "IPY_MODEL_5df62f60086c41d5b3197febb0ebe81d",
            "_dom_classes": [],
            "description": "",
            "_model_name": "HTMLModel",
            "placeholder": "​",
            "_view_module": "@jupyter-widgets/controls",
            "_model_module_version": "1.5.0",
            "value": " 794299/794299 [00:05&lt;00:00, 135863.65it/s]",
            "_view_count": null,
            "_view_module_version": "1.5.0",
            "description_tooltip": null,
            "_model_module": "@jupyter-widgets/controls",
            "layout": "IPY_MODEL_a18771447dec48f088b2c68b5505966f"
          }
        },
        "c680287b864943679f5b81311f762d61": {
          "model_module": "@jupyter-widgets/controls",
          "model_name": "ProgressStyleModel",
          "state": {
            "_view_name": "StyleView",
            "_model_name": "ProgressStyleModel",
            "description_width": "initial",
            "_view_module": "@jupyter-widgets/base",
            "_model_module_version": "1.5.0",
            "_view_count": null,
            "_view_module_version": "1.2.0",
            "bar_color": null,
            "_model_module": "@jupyter-widgets/controls"
          }
        },
        "fc3676428cf940139d5612c0d7d153b1": {
          "model_module": "@jupyter-widgets/base",
          "model_name": "LayoutModel",
          "state": {
            "_view_name": "LayoutView",
            "grid_template_rows": null,
            "right": null,
            "justify_content": null,
            "_view_module": "@jupyter-widgets/base",
            "overflow": null,
            "_model_module_version": "1.2.0",
            "_view_count": null,
            "flex_flow": null,
            "width": null,
            "min_width": null,
            "border": null,
            "align_items": null,
            "bottom": null,
            "_model_module": "@jupyter-widgets/base",
            "top": null,
            "grid_column": null,
            "overflow_y": null,
            "overflow_x": null,
            "grid_auto_flow": null,
            "grid_area": null,
            "grid_template_columns": null,
            "flex": null,
            "_model_name": "LayoutModel",
            "justify_items": null,
            "grid_row": null,
            "max_height": null,
            "align_content": null,
            "visibility": null,
            "align_self": null,
            "height": null,
            "min_height": null,
            "padding": null,
            "grid_auto_rows": null,
            "grid_gap": null,
            "max_width": null,
            "order": null,
            "_view_module_version": "1.2.0",
            "grid_template_areas": null,
            "object_position": null,
            "object_fit": null,
            "grid_auto_columns": null,
            "margin": null,
            "display": null,
            "left": null
          }
        },
        "5df62f60086c41d5b3197febb0ebe81d": {
          "model_module": "@jupyter-widgets/controls",
          "model_name": "DescriptionStyleModel",
          "state": {
            "_view_name": "StyleView",
            "_model_name": "DescriptionStyleModel",
            "description_width": "",
            "_view_module": "@jupyter-widgets/base",
            "_model_module_version": "1.5.0",
            "_view_count": null,
            "_view_module_version": "1.2.0",
            "_model_module": "@jupyter-widgets/controls"
          }
        },
        "a18771447dec48f088b2c68b5505966f": {
          "model_module": "@jupyter-widgets/base",
          "model_name": "LayoutModel",
          "state": {
            "_view_name": "LayoutView",
            "grid_template_rows": null,
            "right": null,
            "justify_content": null,
            "_view_module": "@jupyter-widgets/base",
            "overflow": null,
            "_model_module_version": "1.2.0",
            "_view_count": null,
            "flex_flow": null,
            "width": null,
            "min_width": null,
            "border": null,
            "align_items": null,
            "bottom": null,
            "_model_module": "@jupyter-widgets/base",
            "top": null,
            "grid_column": null,
            "overflow_y": null,
            "overflow_x": null,
            "grid_auto_flow": null,
            "grid_area": null,
            "grid_template_columns": null,
            "flex": null,
            "_model_name": "LayoutModel",
            "justify_items": null,
            "grid_row": null,
            "max_height": null,
            "align_content": null,
            "visibility": null,
            "align_self": null,
            "height": null,
            "min_height": null,
            "padding": null,
            "grid_auto_rows": null,
            "grid_gap": null,
            "max_width": null,
            "order": null,
            "_view_module_version": "1.2.0",
            "grid_template_areas": null,
            "object_position": null,
            "object_fit": null,
            "grid_auto_columns": null,
            "margin": null,
            "display": null,
            "left": null
          }
        },
        "52047176e80c491da79d65526526752f": {
          "model_module": "@jupyter-widgets/controls",
          "model_name": "HBoxModel",
          "state": {
            "_view_name": "HBoxView",
            "_dom_classes": [],
            "_model_name": "HBoxModel",
            "_view_module": "@jupyter-widgets/controls",
            "_model_module_version": "1.5.0",
            "_view_count": null,
            "_view_module_version": "1.5.0",
            "box_style": "",
            "layout": "IPY_MODEL_c4f139965f0f4563b17c27bf091cdc0d",
            "_model_module": "@jupyter-widgets/controls",
            "children": [
              "IPY_MODEL_c98d263d4f0d448e92b4da6948964336",
              "IPY_MODEL_8127cdef79694f4cb13d27eb30bca6f1"
            ]
          }
        },
        "c4f139965f0f4563b17c27bf091cdc0d": {
          "model_module": "@jupyter-widgets/base",
          "model_name": "LayoutModel",
          "state": {
            "_view_name": "LayoutView",
            "grid_template_rows": null,
            "right": null,
            "justify_content": null,
            "_view_module": "@jupyter-widgets/base",
            "overflow": null,
            "_model_module_version": "1.2.0",
            "_view_count": null,
            "flex_flow": null,
            "width": null,
            "min_width": null,
            "border": null,
            "align_items": null,
            "bottom": null,
            "_model_module": "@jupyter-widgets/base",
            "top": null,
            "grid_column": null,
            "overflow_y": null,
            "overflow_x": null,
            "grid_auto_flow": null,
            "grid_area": null,
            "grid_template_columns": null,
            "flex": null,
            "_model_name": "LayoutModel",
            "justify_items": null,
            "grid_row": null,
            "max_height": null,
            "align_content": null,
            "visibility": null,
            "align_self": null,
            "height": null,
            "min_height": null,
            "padding": null,
            "grid_auto_rows": null,
            "grid_gap": null,
            "max_width": null,
            "order": null,
            "_view_module_version": "1.2.0",
            "grid_template_areas": null,
            "object_position": null,
            "object_fit": null,
            "grid_auto_columns": null,
            "margin": null,
            "display": null,
            "left": null
          }
        },
        "c98d263d4f0d448e92b4da6948964336": {
          "model_module": "@jupyter-widgets/controls",
          "model_name": "IntProgressModel",
          "state": {
            "_view_name": "ProgressView",
            "style": "IPY_MODEL_7ac8d5a87e754a8483f65458405a2517",
            "_dom_classes": [],
            "description": "100%",
            "_model_name": "IntProgressModel",
            "bar_style": "success",
            "max": 794299,
            "_view_module": "@jupyter-widgets/controls",
            "_model_module_version": "1.5.0",
            "value": 794299,
            "_view_count": null,
            "_view_module_version": "1.5.0",
            "orientation": "horizontal",
            "min": 0,
            "description_tooltip": null,
            "_model_module": "@jupyter-widgets/controls",
            "layout": "IPY_MODEL_34ad27b2bf0e409cb49a4b3b608874f3"
          }
        },
        "8127cdef79694f4cb13d27eb30bca6f1": {
          "model_module": "@jupyter-widgets/controls",
          "model_name": "HTMLModel",
          "state": {
            "_view_name": "HTMLView",
            "style": "IPY_MODEL_59e35f9ffceb4ac29d6547f8f5701a91",
            "_dom_classes": [],
            "description": "",
            "_model_name": "HTMLModel",
            "placeholder": "​",
            "_view_module": "@jupyter-widgets/controls",
            "_model_module_version": "1.5.0",
            "value": " 794299/794299 [01:55&lt;00:00, 6882.15it/s]",
            "_view_count": null,
            "_view_module_version": "1.5.0",
            "description_tooltip": null,
            "_model_module": "@jupyter-widgets/controls",
            "layout": "IPY_MODEL_1fcad6c4777545f3af09038bc074d9a7"
          }
        },
        "7ac8d5a87e754a8483f65458405a2517": {
          "model_module": "@jupyter-widgets/controls",
          "model_name": "ProgressStyleModel",
          "state": {
            "_view_name": "StyleView",
            "_model_name": "ProgressStyleModel",
            "description_width": "initial",
            "_view_module": "@jupyter-widgets/base",
            "_model_module_version": "1.5.0",
            "_view_count": null,
            "_view_module_version": "1.2.0",
            "bar_color": null,
            "_model_module": "@jupyter-widgets/controls"
          }
        },
        "34ad27b2bf0e409cb49a4b3b608874f3": {
          "model_module": "@jupyter-widgets/base",
          "model_name": "LayoutModel",
          "state": {
            "_view_name": "LayoutView",
            "grid_template_rows": null,
            "right": null,
            "justify_content": null,
            "_view_module": "@jupyter-widgets/base",
            "overflow": null,
            "_model_module_version": "1.2.0",
            "_view_count": null,
            "flex_flow": null,
            "width": null,
            "min_width": null,
            "border": null,
            "align_items": null,
            "bottom": null,
            "_model_module": "@jupyter-widgets/base",
            "top": null,
            "grid_column": null,
            "overflow_y": null,
            "overflow_x": null,
            "grid_auto_flow": null,
            "grid_area": null,
            "grid_template_columns": null,
            "flex": null,
            "_model_name": "LayoutModel",
            "justify_items": null,
            "grid_row": null,
            "max_height": null,
            "align_content": null,
            "visibility": null,
            "align_self": null,
            "height": null,
            "min_height": null,
            "padding": null,
            "grid_auto_rows": null,
            "grid_gap": null,
            "max_width": null,
            "order": null,
            "_view_module_version": "1.2.0",
            "grid_template_areas": null,
            "object_position": null,
            "object_fit": null,
            "grid_auto_columns": null,
            "margin": null,
            "display": null,
            "left": null
          }
        },
        "59e35f9ffceb4ac29d6547f8f5701a91": {
          "model_module": "@jupyter-widgets/controls",
          "model_name": "DescriptionStyleModel",
          "state": {
            "_view_name": "StyleView",
            "_model_name": "DescriptionStyleModel",
            "description_width": "",
            "_view_module": "@jupyter-widgets/base",
            "_model_module_version": "1.5.0",
            "_view_count": null,
            "_view_module_version": "1.2.0",
            "_model_module": "@jupyter-widgets/controls"
          }
        },
        "1fcad6c4777545f3af09038bc074d9a7": {
          "model_module": "@jupyter-widgets/base",
          "model_name": "LayoutModel",
          "state": {
            "_view_name": "LayoutView",
            "grid_template_rows": null,
            "right": null,
            "justify_content": null,
            "_view_module": "@jupyter-widgets/base",
            "overflow": null,
            "_model_module_version": "1.2.0",
            "_view_count": null,
            "flex_flow": null,
            "width": null,
            "min_width": null,
            "border": null,
            "align_items": null,
            "bottom": null,
            "_model_module": "@jupyter-widgets/base",
            "top": null,
            "grid_column": null,
            "overflow_y": null,
            "overflow_x": null,
            "grid_auto_flow": null,
            "grid_area": null,
            "grid_template_columns": null,
            "flex": null,
            "_model_name": "LayoutModel",
            "justify_items": null,
            "grid_row": null,
            "max_height": null,
            "align_content": null,
            "visibility": null,
            "align_self": null,
            "height": null,
            "min_height": null,
            "padding": null,
            "grid_auto_rows": null,
            "grid_gap": null,
            "max_width": null,
            "order": null,
            "_view_module_version": "1.2.0",
            "grid_template_areas": null,
            "object_position": null,
            "object_fit": null,
            "grid_auto_columns": null,
            "margin": null,
            "display": null,
            "left": null
          }
        },
        "1d2626f545344fecab888c4ba0db0a2a": {
          "model_module": "@jupyter-widgets/controls",
          "model_name": "HBoxModel",
          "state": {
            "_view_name": "HBoxView",
            "_dom_classes": [],
            "_model_name": "HBoxModel",
            "_view_module": "@jupyter-widgets/controls",
            "_model_module_version": "1.5.0",
            "_view_count": null,
            "_view_module_version": "1.5.0",
            "box_style": "",
            "layout": "IPY_MODEL_448ba4488642413eab4b8c4e39f62c34",
            "_model_module": "@jupyter-widgets/controls",
            "children": [
              "IPY_MODEL_bd290150dacb4be697637f4f06fcd7ee",
              "IPY_MODEL_4e4637a242de4cf4a5fedd4c65e4c97d"
            ]
          }
        },
        "448ba4488642413eab4b8c4e39f62c34": {
          "model_module": "@jupyter-widgets/base",
          "model_name": "LayoutModel",
          "state": {
            "_view_name": "LayoutView",
            "grid_template_rows": null,
            "right": null,
            "justify_content": null,
            "_view_module": "@jupyter-widgets/base",
            "overflow": null,
            "_model_module_version": "1.2.0",
            "_view_count": null,
            "flex_flow": null,
            "width": null,
            "min_width": null,
            "border": null,
            "align_items": null,
            "bottom": null,
            "_model_module": "@jupyter-widgets/base",
            "top": null,
            "grid_column": null,
            "overflow_y": null,
            "overflow_x": null,
            "grid_auto_flow": null,
            "grid_area": null,
            "grid_template_columns": null,
            "flex": null,
            "_model_name": "LayoutModel",
            "justify_items": null,
            "grid_row": null,
            "max_height": null,
            "align_content": null,
            "visibility": null,
            "align_self": null,
            "height": null,
            "min_height": null,
            "padding": null,
            "grid_auto_rows": null,
            "grid_gap": null,
            "max_width": null,
            "order": null,
            "_view_module_version": "1.2.0",
            "grid_template_areas": null,
            "object_position": null,
            "object_fit": null,
            "grid_auto_columns": null,
            "margin": null,
            "display": null,
            "left": null
          }
        },
        "bd290150dacb4be697637f4f06fcd7ee": {
          "model_module": "@jupyter-widgets/controls",
          "model_name": "IntProgressModel",
          "state": {
            "_view_name": "ProgressView",
            "style": "IPY_MODEL_e85ccf56cab0438d8c7ceee1f60df8de",
            "_dom_classes": [],
            "description": "100%",
            "_model_name": "IntProgressModel",
            "bar_style": "success",
            "max": 794299,
            "_view_module": "@jupyter-widgets/controls",
            "_model_module_version": "1.5.0",
            "value": 794299,
            "_view_count": null,
            "_view_module_version": "1.5.0",
            "orientation": "horizontal",
            "min": 0,
            "description_tooltip": null,
            "_model_module": "@jupyter-widgets/controls",
            "layout": "IPY_MODEL_8255c6ad47a94ab0bf7c4538ca3a98f1"
          }
        },
        "4e4637a242de4cf4a5fedd4c65e4c97d": {
          "model_module": "@jupyter-widgets/controls",
          "model_name": "HTMLModel",
          "state": {
            "_view_name": "HTMLView",
            "style": "IPY_MODEL_7012f6f0f37b4c7081443dc6b036d536",
            "_dom_classes": [],
            "description": "",
            "_model_name": "HTMLModel",
            "placeholder": "​",
            "_view_module": "@jupyter-widgets/controls",
            "_model_module_version": "1.5.0",
            "value": " 794299/794299 [01:08&lt;00:00, 11609.83it/s]",
            "_view_count": null,
            "_view_module_version": "1.5.0",
            "description_tooltip": null,
            "_model_module": "@jupyter-widgets/controls",
            "layout": "IPY_MODEL_49055b9629b3445198ace3b60fac3f61"
          }
        },
        "e85ccf56cab0438d8c7ceee1f60df8de": {
          "model_module": "@jupyter-widgets/controls",
          "model_name": "ProgressStyleModel",
          "state": {
            "_view_name": "StyleView",
            "_model_name": "ProgressStyleModel",
            "description_width": "initial",
            "_view_module": "@jupyter-widgets/base",
            "_model_module_version": "1.5.0",
            "_view_count": null,
            "_view_module_version": "1.2.0",
            "bar_color": null,
            "_model_module": "@jupyter-widgets/controls"
          }
        },
        "8255c6ad47a94ab0bf7c4538ca3a98f1": {
          "model_module": "@jupyter-widgets/base",
          "model_name": "LayoutModel",
          "state": {
            "_view_name": "LayoutView",
            "grid_template_rows": null,
            "right": null,
            "justify_content": null,
            "_view_module": "@jupyter-widgets/base",
            "overflow": null,
            "_model_module_version": "1.2.0",
            "_view_count": null,
            "flex_flow": null,
            "width": null,
            "min_width": null,
            "border": null,
            "align_items": null,
            "bottom": null,
            "_model_module": "@jupyter-widgets/base",
            "top": null,
            "grid_column": null,
            "overflow_y": null,
            "overflow_x": null,
            "grid_auto_flow": null,
            "grid_area": null,
            "grid_template_columns": null,
            "flex": null,
            "_model_name": "LayoutModel",
            "justify_items": null,
            "grid_row": null,
            "max_height": null,
            "align_content": null,
            "visibility": null,
            "align_self": null,
            "height": null,
            "min_height": null,
            "padding": null,
            "grid_auto_rows": null,
            "grid_gap": null,
            "max_width": null,
            "order": null,
            "_view_module_version": "1.2.0",
            "grid_template_areas": null,
            "object_position": null,
            "object_fit": null,
            "grid_auto_columns": null,
            "margin": null,
            "display": null,
            "left": null
          }
        },
        "7012f6f0f37b4c7081443dc6b036d536": {
          "model_module": "@jupyter-widgets/controls",
          "model_name": "DescriptionStyleModel",
          "state": {
            "_view_name": "StyleView",
            "_model_name": "DescriptionStyleModel",
            "description_width": "",
            "_view_module": "@jupyter-widgets/base",
            "_model_module_version": "1.5.0",
            "_view_count": null,
            "_view_module_version": "1.2.0",
            "_model_module": "@jupyter-widgets/controls"
          }
        },
        "49055b9629b3445198ace3b60fac3f61": {
          "model_module": "@jupyter-widgets/base",
          "model_name": "LayoutModel",
          "state": {
            "_view_name": "LayoutView",
            "grid_template_rows": null,
            "right": null,
            "justify_content": null,
            "_view_module": "@jupyter-widgets/base",
            "overflow": null,
            "_model_module_version": "1.2.0",
            "_view_count": null,
            "flex_flow": null,
            "width": null,
            "min_width": null,
            "border": null,
            "align_items": null,
            "bottom": null,
            "_model_module": "@jupyter-widgets/base",
            "top": null,
            "grid_column": null,
            "overflow_y": null,
            "overflow_x": null,
            "grid_auto_flow": null,
            "grid_area": null,
            "grid_template_columns": null,
            "flex": null,
            "_model_name": "LayoutModel",
            "justify_items": null,
            "grid_row": null,
            "max_height": null,
            "align_content": null,
            "visibility": null,
            "align_self": null,
            "height": null,
            "min_height": null,
            "padding": null,
            "grid_auto_rows": null,
            "grid_gap": null,
            "max_width": null,
            "order": null,
            "_view_module_version": "1.2.0",
            "grid_template_areas": null,
            "object_position": null,
            "object_fit": null,
            "grid_auto_columns": null,
            "margin": null,
            "display": null,
            "left": null
          }
        },
        "2c77e896cedc4583bba8f34f65570efc": {
          "model_module": "@jupyter-widgets/controls",
          "model_name": "HBoxModel",
          "state": {
            "_view_name": "HBoxView",
            "_dom_classes": [],
            "_model_name": "HBoxModel",
            "_view_module": "@jupyter-widgets/controls",
            "_model_module_version": "1.5.0",
            "_view_count": null,
            "_view_module_version": "1.5.0",
            "box_style": "",
            "layout": "IPY_MODEL_1c6fc9a8fd6c49b399abc2c3f5048629",
            "_model_module": "@jupyter-widgets/controls",
            "children": [
              "IPY_MODEL_3ce20900b86f4b389458d5f9922cdc8b",
              "IPY_MODEL_7c571e05807245b6962d2184fef6419c"
            ]
          }
        },
        "1c6fc9a8fd6c49b399abc2c3f5048629": {
          "model_module": "@jupyter-widgets/base",
          "model_name": "LayoutModel",
          "state": {
            "_view_name": "LayoutView",
            "grid_template_rows": null,
            "right": null,
            "justify_content": null,
            "_view_module": "@jupyter-widgets/base",
            "overflow": null,
            "_model_module_version": "1.2.0",
            "_view_count": null,
            "flex_flow": null,
            "width": null,
            "min_width": null,
            "border": null,
            "align_items": null,
            "bottom": null,
            "_model_module": "@jupyter-widgets/base",
            "top": null,
            "grid_column": null,
            "overflow_y": null,
            "overflow_x": null,
            "grid_auto_flow": null,
            "grid_area": null,
            "grid_template_columns": null,
            "flex": null,
            "_model_name": "LayoutModel",
            "justify_items": null,
            "grid_row": null,
            "max_height": null,
            "align_content": null,
            "visibility": null,
            "align_self": null,
            "height": null,
            "min_height": null,
            "padding": null,
            "grid_auto_rows": null,
            "grid_gap": null,
            "max_width": null,
            "order": null,
            "_view_module_version": "1.2.0",
            "grid_template_areas": null,
            "object_position": null,
            "object_fit": null,
            "grid_auto_columns": null,
            "margin": null,
            "display": null,
            "left": null
          }
        },
        "3ce20900b86f4b389458d5f9922cdc8b": {
          "model_module": "@jupyter-widgets/controls",
          "model_name": "IntProgressModel",
          "state": {
            "_view_name": "ProgressView",
            "style": "IPY_MODEL_73e3e8818eec4e36b95bae251f240258",
            "_dom_classes": [],
            "description": "100%",
            "_model_name": "IntProgressModel",
            "bar_style": "success",
            "max": 794299,
            "_view_module": "@jupyter-widgets/controls",
            "_model_module_version": "1.5.0",
            "value": 794299,
            "_view_count": null,
            "_view_module_version": "1.5.0",
            "orientation": "horizontal",
            "min": 0,
            "description_tooltip": null,
            "_model_module": "@jupyter-widgets/controls",
            "layout": "IPY_MODEL_0eab4f70e5fd46d1b2f3cf0df05031df"
          }
        },
        "7c571e05807245b6962d2184fef6419c": {
          "model_module": "@jupyter-widgets/controls",
          "model_name": "HTMLModel",
          "state": {
            "_view_name": "HTMLView",
            "style": "IPY_MODEL_5f475563f77a4867a7ba40864650d149",
            "_dom_classes": [],
            "description": "",
            "_model_name": "HTMLModel",
            "placeholder": "​",
            "_view_module": "@jupyter-widgets/controls",
            "_model_module_version": "1.5.0",
            "value": " 794299/794299 [01:00&lt;00:00, 13211.91it/s]",
            "_view_count": null,
            "_view_module_version": "1.5.0",
            "description_tooltip": null,
            "_model_module": "@jupyter-widgets/controls",
            "layout": "IPY_MODEL_af1f0cc544bb409a8ee62576796777f0"
          }
        },
        "73e3e8818eec4e36b95bae251f240258": {
          "model_module": "@jupyter-widgets/controls",
          "model_name": "ProgressStyleModel",
          "state": {
            "_view_name": "StyleView",
            "_model_name": "ProgressStyleModel",
            "description_width": "initial",
            "_view_module": "@jupyter-widgets/base",
            "_model_module_version": "1.5.0",
            "_view_count": null,
            "_view_module_version": "1.2.0",
            "bar_color": null,
            "_model_module": "@jupyter-widgets/controls"
          }
        },
        "0eab4f70e5fd46d1b2f3cf0df05031df": {
          "model_module": "@jupyter-widgets/base",
          "model_name": "LayoutModel",
          "state": {
            "_view_name": "LayoutView",
            "grid_template_rows": null,
            "right": null,
            "justify_content": null,
            "_view_module": "@jupyter-widgets/base",
            "overflow": null,
            "_model_module_version": "1.2.0",
            "_view_count": null,
            "flex_flow": null,
            "width": null,
            "min_width": null,
            "border": null,
            "align_items": null,
            "bottom": null,
            "_model_module": "@jupyter-widgets/base",
            "top": null,
            "grid_column": null,
            "overflow_y": null,
            "overflow_x": null,
            "grid_auto_flow": null,
            "grid_area": null,
            "grid_template_columns": null,
            "flex": null,
            "_model_name": "LayoutModel",
            "justify_items": null,
            "grid_row": null,
            "max_height": null,
            "align_content": null,
            "visibility": null,
            "align_self": null,
            "height": null,
            "min_height": null,
            "padding": null,
            "grid_auto_rows": null,
            "grid_gap": null,
            "max_width": null,
            "order": null,
            "_view_module_version": "1.2.0",
            "grid_template_areas": null,
            "object_position": null,
            "object_fit": null,
            "grid_auto_columns": null,
            "margin": null,
            "display": null,
            "left": null
          }
        },
        "5f475563f77a4867a7ba40864650d149": {
          "model_module": "@jupyter-widgets/controls",
          "model_name": "DescriptionStyleModel",
          "state": {
            "_view_name": "StyleView",
            "_model_name": "DescriptionStyleModel",
            "description_width": "",
            "_view_module": "@jupyter-widgets/base",
            "_model_module_version": "1.5.0",
            "_view_count": null,
            "_view_module_version": "1.2.0",
            "_model_module": "@jupyter-widgets/controls"
          }
        },
        "af1f0cc544bb409a8ee62576796777f0": {
          "model_module": "@jupyter-widgets/base",
          "model_name": "LayoutModel",
          "state": {
            "_view_name": "LayoutView",
            "grid_template_rows": null,
            "right": null,
            "justify_content": null,
            "_view_module": "@jupyter-widgets/base",
            "overflow": null,
            "_model_module_version": "1.2.0",
            "_view_count": null,
            "flex_flow": null,
            "width": null,
            "min_width": null,
            "border": null,
            "align_items": null,
            "bottom": null,
            "_model_module": "@jupyter-widgets/base",
            "top": null,
            "grid_column": null,
            "overflow_y": null,
            "overflow_x": null,
            "grid_auto_flow": null,
            "grid_area": null,
            "grid_template_columns": null,
            "flex": null,
            "_model_name": "LayoutModel",
            "justify_items": null,
            "grid_row": null,
            "max_height": null,
            "align_content": null,
            "visibility": null,
            "align_self": null,
            "height": null,
            "min_height": null,
            "padding": null,
            "grid_auto_rows": null,
            "grid_gap": null,
            "max_width": null,
            "order": null,
            "_view_module_version": "1.2.0",
            "grid_template_areas": null,
            "object_position": null,
            "object_fit": null,
            "grid_auto_columns": null,
            "margin": null,
            "display": null,
            "left": null
          }
        }
      }
    }
  },
  "cells": [
    {
      "cell_type": "markdown",
      "metadata": {
        "id": "view-in-github",
        "colab_type": "text"
      },
      "source": [
        "<a href=\"https://colab.research.google.com/github/abhilashpandurangan/RASRCustomerSupport/blob/master/basic_seq2seq.ipynb\" target=\"_parent\"><img src=\"https://colab.research.google.com/assets/colab-badge.svg\" alt=\"Open In Colab\"/></a>"
      ]
    },
    {
      "cell_type": "markdown",
      "metadata": {
        "_cell_guid": "7c3a162a-2e9a-459a-bc91-3a35008586b0",
        "_uuid": "355c54dccfd0e1dfd44e342f7ea8fa31353dce11",
        "id": "TzQqlawZOT4O",
        "colab_type": "text"
      },
      "source": [
        "# Basic Seq2Seq\n",
        "seq2seq model implementation using keras, Tensorflow to predict company responses to consumers. \n",
        "\n",
        "Source:\n",
        "https://github.com/google/seq2seq\n",
        "\n",
        "![seq2seq model architecture](https://i.imgur.com/JmuryKu.png)"
      ]
    },
    {
      "cell_type": "code",
      "metadata": {
        "_cell_guid": "39717eda-bc31-4143-a87f-bac4eea63678",
        "_uuid": "e30b174032d05dd0048b02ca268f3b31cf5b183e",
        "id": "Z3K8ZVebOT4Q",
        "colab_type": "code",
        "colab": {}
      },
      "source": [
        "import re\n",
        "import random\n",
        "import time\n",
        "\n",
        "print('Library versions:')\n",
        "\n",
        "import keras\n",
        "print(f'keras:{keras.__version__}')\n",
        "import pandas as pd\n",
        "print(f'pandas:{pd.__version__}')\n",
        "import sklearn\n",
        "print(f'sklearn:{sklearn.__version__}')\n",
        "import nltk\n",
        "print(f'nltk:{nltk.__version__}')\n",
        "import numpy as np\n",
        "print(f'numpy:{np.__version__}')\n",
        "\n",
        "from sklearn.feature_extraction.text import CountVectorizer\n",
        "from nltk.tokenize import casual_tokenize\n",
        "\n",
        "from tqdm import tqdm_notebook as tqdm"
      ],
      "execution_count": 0,
      "outputs": []
    },
    {
      "cell_type": "markdown",
      "metadata": {
        "_cell_guid": "24fb3871-ea0e-4b9e-b21c-ed76ccefc823",
        "_uuid": "ec0199c0dff22aeed45b9dbe1e7bf659e9449fe9",
        "id": "U8deFsu7OT4U",
        "colab_type": "text"
      },
      "source": [
        "## Model Parameters"
      ]
    },
    {
      "cell_type": "code",
      "metadata": {
        "_cell_guid": "3217b16f-bf7c-4fed-bbea-d74e09a537e4",
        "_uuid": "6509f5443163b0d11f1a003bb8a28b79a340f192",
        "id": "veNPtbmBOT4U",
        "colab_type": "code",
        "colab": {}
      },
      "source": [
        "MAX_VOCAB_SIZE = 2**13  # 8192\n",
        "MAX_MESSAGE_LEN = 30  \n",
        "# Embedding size for words \n",
        "EMBEDDING_SIZE = 100\n",
        "CONTEXT_SIZE = 100\n",
        "BATCH_SIZE = 4\n",
        "DROPOUT = 0.2\n",
        "\n",
        "LEARNING_RATE=0.005\n",
        "# Tokens needed for seq2seq\n",
        "UNK = 0  # words that aren't found in the vocab\n",
        "PAD = 1  # after message has finished, this fills all remaining vector positions\n",
        "START = 2  # provided to the model at position 0 for every response predicted\n",
        "SUB_BATCH_SIZE = 1000\n"
      ],
      "execution_count": 0,
      "outputs": []
    },
    {
      "cell_type": "markdown",
      "metadata": {
        "_cell_guid": "ea67c840-2d02-45df-be0b-ec5746e72028",
        "_uuid": "9f99990233daf26e624d6e0a735b8a3559eb54c9",
        "id": "siTTbhe-OT4Z",
        "colab_type": "text"
      },
      "source": [
        "## Data Prep\n",
        "Here, we'll prepare the data for training our seq2seq model, including:\n",
        "\n",
        "- Replace screen names with `@__sn__` token to show model the commonality between them\n",
        "- Build a vocab to turn tokens into integers suitable for our seq2seq model\n",
        "- Tokenize input and target text into fixed size vectors\n",
        "- Partition our dataset into train and test sets"
      ]
    },
    {
      "cell_type": "markdown",
      "metadata": {
        "_cell_guid": "7e83096b-f411-494a-962b-80a76122e674",
        "_uuid": "8989bdc2a930380aa52af0ef6a296906d313715c",
        "id": "13dmhFBtOT4a",
        "colab_type": "text"
      },
      "source": [
        "### Data Loading and Reshaping\n"
      ]
    },
    {
      "cell_type": "code",
      "metadata": {
        "_cell_guid": "c9f2bbcb-e843-42d9-81ec-70be9465c4a8",
        "scrolled": true,
        "_uuid": "0c3d1708c29764aceb980a93bd9ac61fdf852a22",
        "id": "Guh2iZpFOT4b",
        "colab_type": "code",
        "colab": {}
      },
      "source": [
        "%%time\n",
        "tweets = pd.read_csv('/content/drive/My Drive/NLP CSCI 544 Project/code/twcs.csv')\n",
        "\n",
        "first_inbound = tweets[pd.isnull(tweets.in_response_to_tweet_id) & tweets.inbound]\n",
        "\n",
        "inbounds_and_outbounds = pd.merge(first_inbound, tweets, left_on='tweet_id', \n",
        "                                  right_on='in_response_to_tweet_id').sample(frac=1)\n",
        "\n",
        "# Filter to only outbound replies (from companies)\n",
        "inbounds_and_outbounds = inbounds_and_outbounds[inbounds_and_outbounds.inbound_y ^ True]\n",
        "\n",
        "tqdm().pandas()  # Enable tracking of progress in dataframe `apply` calls"
      ],
      "execution_count": 0,
      "outputs": []
    },
    {
      "cell_type": "code",
      "metadata": {
        "_cell_guid": "1510aa86-71ce-41b6-bda9-6bec1206836b",
        "_uuid": "67186b1ace1e3fff0fed9ec9fe6fd0c59f009a5b",
        "id": "lbnXUY9TOT4e",
        "colab_type": "code",
        "colab": {
          "base_uri": "https://localhost:8080/",
          "height": 33
        },
        "outputId": "3c0c67ad-f894-4c59-9bc1-dc7aa90efa2b"
      },
      "source": [
        "print(f'Data shape: {inbounds_and_outbounds.shape}')"
      ],
      "execution_count": 10,
      "outputs": [
        {
          "output_type": "stream",
          "text": [
            "Data shape: (794299, 14)\n"
          ],
          "name": "stdout"
        }
      ]
    },
    {
      "cell_type": "markdown",
      "metadata": {
        "_cell_guid": "a0afc1aa-a34f-4ea5-b34e-2fb21b5da62e",
        "_uuid": "2478590bbc0924cc8e8dd127ac4fea8019f8b3f3",
        "id": "rFWCyrg8OT4j",
        "colab_type": "text"
      },
      "source": [
        "### Tokenizing and Vocab Build\n",
        "\n",
        " NLTK's `casual_tokenize`, which handles a lot of corner cases found in social media data (\"casual\" text data) along with scitkit learn's `CountVectorizer`.  "
      ]
    },
    {
      "cell_type": "code",
      "metadata": {
        "_cell_guid": "cab88942-373b-42fa-ac15-f341b19ced6f",
        "scrolled": true,
        "_uuid": "eccc4fdc8c0770ccb650c2fea30d7c4c5644ee4b",
        "id": "NBZhM-7oOT4k",
        "colab_type": "code",
        "colab": {
          "base_uri": "https://localhost:8080/",
          "height": 601
        },
        "outputId": "8782b941-b6a7-477f-959c-27d995e64701"
      },
      "source": [
        "inbounds_and_outbounds.head()"
      ],
      "execution_count": 11,
      "outputs": [
        {
          "output_type": "execute_result",
          "data": {
            "text/html": [
              "<div>\n",
              "<style scoped>\n",
              "    .dataframe tbody tr th:only-of-type {\n",
              "        vertical-align: middle;\n",
              "    }\n",
              "\n",
              "    .dataframe tbody tr th {\n",
              "        vertical-align: top;\n",
              "    }\n",
              "\n",
              "    .dataframe thead th {\n",
              "        text-align: right;\n",
              "    }\n",
              "</style>\n",
              "<table border=\"1\" class=\"dataframe\">\n",
              "  <thead>\n",
              "    <tr style=\"text-align: right;\">\n",
              "      <th></th>\n",
              "      <th>tweet_id_x</th>\n",
              "      <th>author_id_x</th>\n",
              "      <th>inbound_x</th>\n",
              "      <th>created_at_x</th>\n",
              "      <th>text_x</th>\n",
              "      <th>response_tweet_id_x</th>\n",
              "      <th>in_response_to_tweet_id_x</th>\n",
              "      <th>tweet_id_y</th>\n",
              "      <th>author_id_y</th>\n",
              "      <th>inbound_y</th>\n",
              "      <th>created_at_y</th>\n",
              "      <th>text_y</th>\n",
              "      <th>response_tweet_id_y</th>\n",
              "      <th>in_response_to_tweet_id_y</th>\n",
              "    </tr>\n",
              "  </thead>\n",
              "  <tbody>\n",
              "    <tr>\n",
              "      <th>4698</th>\n",
              "      <td>17153</td>\n",
              "      <td>119779</td>\n",
              "      <td>True</td>\n",
              "      <td>Wed Nov 01 12:21:26 +0000 2017</td>\n",
              "      <td>@idea_cares still no help about this. https://...</td>\n",
              "      <td>17152</td>\n",
              "      <td>NaN</td>\n",
              "      <td>17152</td>\n",
              "      <td>idea_cares</td>\n",
              "      <td>False</td>\n",
              "      <td>Wed Nov 01 12:37:28 +0000 2017</td>\n",
              "      <td>@119779 We understand the wait has been long f...</td>\n",
              "      <td>NaN</td>\n",
              "      <td>17153.0</td>\n",
              "    </tr>\n",
              "    <tr>\n",
              "      <th>446262</th>\n",
              "      <td>1613091</td>\n",
              "      <td>494932</td>\n",
              "      <td>True</td>\n",
              "      <td>Sat Nov 25 18:13:34 +0000 2017</td>\n",
              "      <td>@116062 why can’t we get answers on transactio...</td>\n",
              "      <td>1613090</td>\n",
              "      <td>NaN</td>\n",
              "      <td>1613090</td>\n",
              "      <td>AskTarget</td>\n",
              "      <td>False</td>\n",
              "      <td>Sun Nov 26 04:07:12 +0000 2017</td>\n",
              "      <td>@494932 Thank you for reaching out to us. We'd...</td>\n",
              "      <td>NaN</td>\n",
              "      <td>1613091.0</td>\n",
              "    </tr>\n",
              "    <tr>\n",
              "      <th>241783</th>\n",
              "      <td>893045</td>\n",
              "      <td>332047</td>\n",
              "      <td>True</td>\n",
              "      <td>Fri Oct 13 17:49:48 +0000 2017</td>\n",
              "      <td>@Delta 2nd time in 3 weeks you delayed/cancele...</td>\n",
              "      <td>893044</td>\n",
              "      <td>NaN</td>\n",
              "      <td>893044</td>\n",
              "      <td>Delta</td>\n",
              "      <td>False</td>\n",
              "      <td>Fri Oct 13 18:06:19 +0000 2017</td>\n",
              "      <td>@332047 Hello, Paul! I am sorry that we have d...</td>\n",
              "      <td>NaN</td>\n",
              "      <td>893045.0</td>\n",
              "    </tr>\n",
              "    <tr>\n",
              "      <th>311567</th>\n",
              "      <td>1138117</td>\n",
              "      <td>388074</td>\n",
              "      <td>True</td>\n",
              "      <td>Sat Oct 14 18:52:17 +0000 2017</td>\n",
              "      <td>@388075  Eden Mill Blueberry &amp;amp; Vanilla Gin...</td>\n",
              "      <td>1138116,1138118</td>\n",
              "      <td>NaN</td>\n",
              "      <td>1138116</td>\n",
              "      <td>AldiUK</td>\n",
              "      <td>False</td>\n",
              "      <td>Sat Oct 14 19:03:34 +0000 2017</td>\n",
              "      <td>@388074 @388075 All the ingredients for a perf...</td>\n",
              "      <td>NaN</td>\n",
              "      <td>1138117.0</td>\n",
              "    </tr>\n",
              "    <tr>\n",
              "      <th>833432</th>\n",
              "      <td>2851326</td>\n",
              "      <td>792799</td>\n",
              "      <td>True</td>\n",
              "      <td>Mon Nov 27 18:49:54 +0000 2017</td>\n",
              "      <td>@JetBlue for the last 3 days I get ERR when tr...</td>\n",
              "      <td>2851324</td>\n",
              "      <td>NaN</td>\n",
              "      <td>2851324</td>\n",
              "      <td>JetBlue</td>\n",
              "      <td>False</td>\n",
              "      <td>Mon Nov 27 18:51:02 +0000 2017</td>\n",
              "      <td>@792799 Oh no! Are you trying on your desktop ...</td>\n",
              "      <td>2851325</td>\n",
              "      <td>2851326.0</td>\n",
              "    </tr>\n",
              "  </tbody>\n",
              "</table>\n",
              "</div>"
            ],
            "text/plain": [
              "        tweet_id_x author_id_x  ...  response_tweet_id_y in_response_to_tweet_id_y\n",
              "4698         17153      119779  ...                  NaN                   17153.0\n",
              "446262     1613091      494932  ...                  NaN                 1613091.0\n",
              "241783      893045      332047  ...                  NaN                  893045.0\n",
              "311567     1138117      388074  ...                  NaN                 1138117.0\n",
              "833432     2851326      792799  ...              2851325                 2851326.0\n",
              "\n",
              "[5 rows x 14 columns]"
            ]
          },
          "metadata": {
            "tags": []
          },
          "execution_count": 11
        }
      ]
    },
    {
      "cell_type": "code",
      "metadata": {
        "_cell_guid": "1efdae4f-8ff9-4242-be79-06916771da66",
        "_uuid": "44f124ae8898978cf5c1e571da976888f8229894",
        "id": "i7XxXeteOT4n",
        "colab_type": "code",
        "colab": {
          "base_uri": "https://localhost:8080/",
          "height": 164,
          "referenced_widgets": [
            "9c629e3840f34264b8d64d567130e8ff",
            "3bfbe913bde24945a44ea9b943a5f770",
            "02a9a041499d4ae8aab2d4dafd6e2f1d",
            "04e31ba28a3b4c2e9bd1928cdf8d7699",
            "aee73ef1fb9047cf933a3f12e754f574",
            "438bac9c35384b74af4cb4dfaebb4ce1",
            "3708239233414e0fa029689b3cf0d14f",
            "5ad29fd2181449d39b8934b2761a5f59",
            "aaa983691f1e4ce7a0c8bc06605036cf",
            "e9290c13cf6e442ca8abdb43b0f87a91",
            "337769fd9da647e38edca0170760441c",
            "0708bf36a7d24d91b1432280b0f6402a",
            "c680287b864943679f5b81311f762d61",
            "fc3676428cf940139d5612c0d7d153b1",
            "5df62f60086c41d5b3197febb0ebe81d",
            "a18771447dec48f088b2c68b5505966f"
          ]
        },
        "outputId": "d700944b-5f51-4539-9b13-5c69677a838f"
      },
      "source": [
        "# Replace anonymized screen names with common token @__sn__\n",
        "def sn_replace(match):\n",
        "    _sn = match.group(2).lower()\n",
        "    if not _sn.isnumeric():\n",
        "        # This is a company screen name\n",
        "        return match.group(1) + match.group(2)\n",
        "    return '@__sn__'\n",
        "\n",
        "sn_re = re.compile('(\\W@|^@)([a-zA-Z0-9_]+)')\n",
        "print(\"Replacing anonymized screen names in X...\")\n",
        "x_text = inbounds_and_outbounds.text_x.progress_apply(lambda txt: sn_re.sub(sn_replace, txt))\n",
        "print(\"Replacing anonymized screen names in Y...\")\n",
        "y_text = inbounds_and_outbounds.text_y.progress_apply(lambda txt: sn_re.sub(sn_replace, txt))"
      ],
      "execution_count": 12,
      "outputs": [
        {
          "output_type": "stream",
          "text": [
            "Replacing anonymized screen names in X...\n",
            "\n"
          ],
          "name": "stdout"
        },
        {
          "output_type": "display_data",
          "data": {
            "application/vnd.jupyter.widget-view+json": {
              "model_id": "9c629e3840f34264b8d64d567130e8ff",
              "version_minor": 0,
              "version_major": 2
            },
            "text/plain": [
              "HBox(children=(IntProgress(value=0, max=794299), HTML(value='')))"
            ]
          },
          "metadata": {
            "tags": []
          }
        },
        {
          "output_type": "stream",
          "text": [
            "\n",
            "Replacing anonymized screen names in Y...\n"
          ],
          "name": "stdout"
        },
        {
          "output_type": "display_data",
          "data": {
            "application/vnd.jupyter.widget-view+json": {
              "model_id": "aaa983691f1e4ce7a0c8bc06605036cf",
              "version_minor": 0,
              "version_major": 2
            },
            "text/plain": [
              "HBox(children=(IntProgress(value=0, max=794299), HTML(value='')))"
            ]
          },
          "metadata": {
            "tags": []
          }
        },
        {
          "output_type": "stream",
          "text": [
            "\n"
          ],
          "name": "stdout"
        }
      ]
    },
    {
      "cell_type": "code",
      "metadata": {
        "_cell_guid": "eba2c6e6-f57e-438e-983f-d19c5156c817",
        "scrolled": false,
        "_uuid": "e3f3adeb6aebe8a90bdd7bfcd4fd6cff797d85ad",
        "id": "e07ZJgHyOT4q",
        "colab_type": "code",
        "colab": {
          "base_uri": "https://localhost:8080/",
          "height": 202,
          "referenced_widgets": [
            "52047176e80c491da79d65526526752f",
            "c4f139965f0f4563b17c27bf091cdc0d",
            "c98d263d4f0d448e92b4da6948964336",
            "8127cdef79694f4cb13d27eb30bca6f1",
            "7ac8d5a87e754a8483f65458405a2517",
            "34ad27b2bf0e409cb49a4b3b608874f3",
            "59e35f9ffceb4ac29d6547f8f5701a91",
            "1fcad6c4777545f3af09038bc074d9a7"
          ]
        },
        "outputId": "f4e2309f-aa1e-4939-f0b1-fbc0797111d8"
      },
      "source": [
        "count_vec = CountVectorizer(tokenizer=casual_tokenize, max_features=MAX_VOCAB_SIZE - 3)\n",
        "print(\"Fitting CountVectorizer on X and Y text data...\")\n",
        "count_vec.fit(tqdm(x_text + y_text))\n",
        "analyzer = count_vec.build_analyzer()\n",
        "vocab = {k: v + 3 for k, v in count_vec.vocabulary_.items()}\n",
        "vocab['__unk__'] = UNK\n",
        "vocab['__pad__'] = PAD\n",
        "vocab['__start__'] = START\n",
        "# Used to turn seq2seq predictions into human readable strings\n",
        "reverse_vocab = {v: k for k, v in vocab.items()}\n",
        "print(f\"Learned vocab of {len(vocab)} items.\")"
      ],
      "execution_count": 13,
      "outputs": [
        {
          "output_type": "stream",
          "text": [
            "Fitting CountVectorizer on X and Y text data...\n"
          ],
          "name": "stdout"
        },
        {
          "output_type": "stream",
          "text": [
            "/usr/local/lib/python3.6/dist-packages/ipykernel_launcher.py:3: TqdmDeprecationWarning: This function will be removed in tqdm==5.0.0\n",
            "Please use `tqdm.notebook.tqdm` instead of `tqdm.tqdm_notebook`\n",
            "  This is separate from the ipykernel package so we can avoid doing imports until\n"
          ],
          "name": "stderr"
        },
        {
          "output_type": "display_data",
          "data": {
            "application/vnd.jupyter.widget-view+json": {
              "model_id": "52047176e80c491da79d65526526752f",
              "version_minor": 0,
              "version_major": 2
            },
            "text/plain": [
              "HBox(children=(IntProgress(value=0, max=794299), HTML(value='')))"
            ]
          },
          "metadata": {
            "tags": []
          }
        },
        {
          "output_type": "stream",
          "text": [
            "/usr/local/lib/python3.6/dist-packages/sklearn/feature_extraction/text.py:507: UserWarning: The parameter 'token_pattern' will not be used since 'tokenizer' is not None'\n",
            "  warnings.warn(\"The parameter 'token_pattern' will not be used\"\n"
          ],
          "name": "stderr"
        },
        {
          "output_type": "stream",
          "text": [
            "\n",
            "Learned vocab of 8192 items.\n"
          ],
          "name": "stdout"
        }
      ]
    },
    {
      "cell_type": "markdown",
      "metadata": {
        "_cell_guid": "c01e85bb-974d-4bf3-8eb1-b5893ce8f284",
        "_uuid": "893cae536132c7477699350574f5de0fd7a60a3f",
        "id": "hQ3qNDf7OT4v",
        "colab_type": "text"
      },
      "source": [
        "### Vocab Helper Functions\n",
        "These helper functions take strings and turn them into word indexes used by the actual seq2seq models.  apply the `to_word_idx` function to our text data to get our `N x MESSAGE_LEN` training/test data."
      ]
    },
    {
      "cell_type": "code",
      "metadata": {
        "_cell_guid": "d04887da-5ca9-4380-949e-7f7923a85df8",
        "_uuid": "b32c76052be9f5493b7eeee1cf40435e438eb3ca",
        "id": "0c8I-rD4OT4w",
        "colab_type": "code",
        "colab": {}
      },
      "source": [
        "def to_word_idx(sentence):\n",
        "    full_length = [vocab.get(tok, UNK) for tok in analyzer(sentence)] + [PAD] * MAX_MESSAGE_LEN\n",
        "    return full_length[:MAX_MESSAGE_LEN]\n",
        "\n",
        "def from_word_idx(word_idxs):\n",
        "    return ' '.join(reverse_vocab[idx] for idx in word_idxs if idx != PAD).strip()\n"
      ],
      "execution_count": 0,
      "outputs": []
    },
    {
      "cell_type": "code",
      "metadata": {
        "_cell_guid": "f4b791c1-48a3-4cff-895f-a9140a93c831",
        "_uuid": "3ac8190e6d5985151dbfd5a11a502a389279bad7",
        "id": "yLHUe5BCOT4z",
        "colab_type": "code",
        "colab": {
          "base_uri": "https://localhost:8080/",
          "height": 117
        },
        "outputId": "683cfacd-f6e7-4e40-f7da-34d0efc2cc96"
      },
      "source": [
        "# Make sure our helpers work as expected...\n",
        "x_text.head().apply(to_word_idx).apply(from_word_idx)"
      ],
      "execution_count": 15,
      "outputs": [
        {
          "output_type": "execute_result",
          "data": {
            "text/plain": [
              "4698         @idea_cares still no help about this . __unk__\n",
              "446262    @__sn__ why can ’ t we get answers on transact...\n",
              "241783    @delta 2nd time in 3 weeks you delayed / cance...\n",
              "311567    @__sn__ __unk__ __unk__ __unk__ & __unk__ gin ...\n",
              "833432    @jetblue for the last 3 days i get __unk__ whe...\n",
              "Name: text_x, dtype: object"
            ]
          },
          "metadata": {
            "tags": []
          },
          "execution_count": 15
        }
      ]
    },
    {
      "cell_type": "code",
      "metadata": {
        "_cell_guid": "d1977e30-2cc7-4786-91b2-10dbaa63f17d",
        "scrolled": true,
        "_uuid": "74951a1b74353c31e5e64a68d0f329f1efa9543d",
        "id": "PjL6sz83OT42",
        "colab_type": "code",
        "colab": {
          "base_uri": "https://localhost:8080/",
          "height": 234,
          "referenced_widgets": [
            "1d2626f545344fecab888c4ba0db0a2a",
            "448ba4488642413eab4b8c4e39f62c34",
            "bd290150dacb4be697637f4f06fcd7ee",
            "4e4637a242de4cf4a5fedd4c65e4c97d",
            "e85ccf56cab0438d8c7ceee1f60df8de",
            "8255c6ad47a94ab0bf7c4538ca3a98f1",
            "7012f6f0f37b4c7081443dc6b036d536",
            "49055b9629b3445198ace3b60fac3f61",
            "2c77e896cedc4583bba8f34f65570efc",
            "1c6fc9a8fd6c49b399abc2c3f5048629",
            "3ce20900b86f4b389458d5f9922cdc8b",
            "7c571e05807245b6962d2184fef6419c",
            "73e3e8818eec4e36b95bae251f240258",
            "0eab4f70e5fd46d1b2f3cf0df05031df",
            "5f475563f77a4867a7ba40864650d149",
            "af1f0cc544bb409a8ee62576796777f0"
          ]
        },
        "outputId": "e90f45af-adff-412f-f889-0deeab3e8e38"
      },
      "source": [
        "print(\"Calculating word indexes for X...\")\n",
        "x = pd.np.vstack(x_text.progress_apply(to_word_idx).values)\n",
        "print(\"Calculating word indexes for Y...\")\n",
        "y = pd.np.vstack(y_text.progress_apply(to_word_idx).values)"
      ],
      "execution_count": 16,
      "outputs": [
        {
          "output_type": "stream",
          "text": [
            "Calculating word indexes for X...\n"
          ],
          "name": "stdout"
        },
        {
          "output_type": "stream",
          "text": [
            "/usr/local/lib/python3.6/dist-packages/ipykernel_launcher.py:2: FutureWarning: The pandas.np module is deprecated and will be removed from pandas in a future version. Import numpy directly instead\n",
            "  \n"
          ],
          "name": "stderr"
        },
        {
          "output_type": "display_data",
          "data": {
            "application/vnd.jupyter.widget-view+json": {
              "model_id": "1d2626f545344fecab888c4ba0db0a2a",
              "version_minor": 0,
              "version_major": 2
            },
            "text/plain": [
              "HBox(children=(IntProgress(value=0, max=794299), HTML(value='')))"
            ]
          },
          "metadata": {
            "tags": []
          }
        },
        {
          "output_type": "stream",
          "text": [
            "\n",
            "Calculating word indexes for Y...\n"
          ],
          "name": "stdout"
        },
        {
          "output_type": "stream",
          "text": [
            "/usr/local/lib/python3.6/dist-packages/ipykernel_launcher.py:4: FutureWarning: The pandas.np module is deprecated and will be removed from pandas in a future version. Import numpy directly instead\n",
            "  after removing the cwd from sys.path.\n"
          ],
          "name": "stderr"
        },
        {
          "output_type": "display_data",
          "data": {
            "application/vnd.jupyter.widget-view+json": {
              "model_id": "2c77e896cedc4583bba8f34f65570efc",
              "version_minor": 0,
              "version_major": 2
            },
            "text/plain": [
              "HBox(children=(IntProgress(value=0, max=794299), HTML(value='')))"
            ]
          },
          "metadata": {
            "tags": []
          }
        },
        {
          "output_type": "stream",
          "text": [
            "\n"
          ],
          "name": "stdout"
        }
      ]
    },
    {
      "cell_type": "markdown",
      "metadata": {
        "_cell_guid": "edebf7ab-0495-4e38-9900-7a9652cdb2d0",
        "_uuid": "f9f842020ecb321805c9032d20b01f1ffe6f5885",
        "id": "rtb4WRnqOT47",
        "colab_type": "text"
      },
      "source": [
        "### Train / Test Split\n",
        "Here, we split our data into training and test sets.  80-20 split for train-test"
      ]
    },
    {
      "cell_type": "code",
      "metadata": {
        "_cell_guid": "67b9f6e4-2619-48c9-9339-da6637e646d3",
        "_uuid": "d4f3b7134ac395a1952f8dc816cedad201cdf0a4",
        "id": "1sjG6JkKOT48",
        "colab_type": "code",
        "colab": {
          "base_uri": "https://localhost:8080/",
          "height": 33
        },
        "outputId": "5d43c79a-22a1-4168-808b-4c75bf569311"
      },
      "source": [
        "all_idx = list(range(len(x)))\n",
        "train_idx = set(random.sample(all_idx, int(0.8 * len(all_idx))))\n",
        "test_idx = {idx for idx in all_idx if idx not in train_idx}\n",
        "\n",
        "train_x = x[list(train_idx)]\n",
        "test_x = x[list(test_idx)]\n",
        "train_y = y[list(train_idx)]\n",
        "test_y = y[list(test_idx)]\n",
        "\n",
        "assert train_x.shape == train_y.shape\n",
        "assert test_x.shape == test_y.shape\n",
        "\n",
        "print(f'Training data of shape {train_x.shape} and test data of shape {test_x.shape}.')"
      ],
      "execution_count": 17,
      "outputs": [
        {
          "output_type": "stream",
          "text": [
            "Training data of shape (635439, 30) and test data of shape (158860, 30).\n"
          ],
          "name": "stdout"
        }
      ]
    },
    {
      "cell_type": "markdown",
      "metadata": {
        "_cell_guid": "9764b6aa-13e3-409e-939e-64f7f7083350",
        "_uuid": "89c827fa1a1aabc990e6b04b4a4839bd04b9b42c",
        "id": "biIQuQBrOT5B",
        "colab_type": "text"
      },
      "source": [
        "## Model Creation\n",
        "\n",
        "\n",
        "- Shared word embeddings\n",
        "\n",
        "- Encoder RNN\n",
        "  \n",
        "- Decoder RNN\n",
        "  \n",
        "- Next Word Dense+Softmax\n",
        "  \n"
      ]
    },
    {
      "cell_type": "code",
      "metadata": {
        "_cell_guid": "ee656365-3b04-4dfc-a4dc-a4081ceea82d",
        "_uuid": "46bea6af349b1b67b870eb5977c2bd0c798e2b86",
        "id": "FlRvGPqTOT5C",
        "colab_type": "code",
        "colab": {}
      },
      "source": [
        "\n",
        "from keras.models import Model\n",
        "from keras.optimizers import Adam\n",
        "from keras.layers import Dense, Input, LSTM, Dropout, Embedding, RepeatVector, concatenate, \\\n",
        "    TimeDistributed\n",
        "from keras.utils import np_utils"
      ],
      "execution_count": 0,
      "outputs": []
    },
    {
      "cell_type": "code",
      "metadata": {
        "id": "30N6ouTdfCY-",
        "colab_type": "code",
        "colab": {}
      },
      "source": [
        "#!pip install tensorflow==1.4.0\n",
        "#!pip uninstall keras\n",
        "#!pip install keras==2.1.2"
      ],
      "execution_count": 0,
      "outputs": []
    },
    {
      "cell_type": "code",
      "metadata": {
        "_cell_guid": "d0a87457-573a-43b8-9a0a-d869a75b86ba",
        "scrolled": true,
        "_uuid": "420e809e7f3c9986bf4d3e3804198b8205e4a772",
        "id": "MeTSuraLOT5H",
        "colab_type": "code",
        "colab": {}
      },
      "source": [
        "def create_model():\n",
        "    shared_embedding = Embedding(\n",
        "        output_dim=EMBEDDING_SIZE,\n",
        "        input_dim=MAX_VOCAB_SIZE,\n",
        "        input_length=MAX_MESSAGE_LEN,\n",
        "        name='embedding',\n",
        "    )\n",
        "    \n",
        "    # ENCODER\n",
        "    \n",
        "    encoder_input = Input(\n",
        "        shape=(MAX_MESSAGE_LEN,),\n",
        "        dtype='int32',\n",
        "        name='encoder_input',\n",
        "    )\n",
        "    \n",
        "    embedded_input = shared_embedding(encoder_input)\n",
        "    \n",
        "    # No return_sequences - since the encoder here only produces a single value for the\n",
        "    # input sequence provided.\n",
        "    encoder_rnn = LSTM(\n",
        "        CONTEXT_SIZE,\n",
        "        name='encoder',\n",
        "        dropout=DROPOUT\n",
        "    )\n",
        "    \n",
        "    context = RepeatVector(MAX_MESSAGE_LEN)(encoder_rnn(embedded_input))\n",
        "    \n",
        "    # DECODER\n",
        "    \n",
        "    last_word_input = Input(\n",
        "        shape=(MAX_MESSAGE_LEN, ),\n",
        "        dtype='int32',\n",
        "        name='last_word_input',\n",
        "    )\n",
        "    \n",
        "    embedded_last_word = shared_embedding(last_word_input)\n",
        "    # Combines the context produced by the encoder and the last word uttered as inputs\n",
        "    # to the decoder.\n",
        "    decoder_input = concatenate([embedded_last_word, context], axis=2)\n",
        "    \n",
        "    # return_sequences causes LSTM to produce one output per timestep instead of one at the\n",
        "    # end of the intput, which is important for sequence producing models.\n",
        "    decoder_rnn = LSTM(\n",
        "        CONTEXT_SIZE,\n",
        "        name='decoder',\n",
        "        return_sequences=True,\n",
        "        dropout=DROPOUT\n",
        "    )\n",
        "    \n",
        "    decoder_output = decoder_rnn(decoder_input)\n",
        "    \n",
        "    # TimeDistributed allows the dense layer to be applied to each decoder output per timestep\n",
        "    next_word_dense = TimeDistributed(\n",
        "        Dense(int(MAX_VOCAB_SIZE / 2), activation='relu'),\n",
        "        name='next_word_dense',\n",
        "    )(decoder_output)\n",
        "    \n",
        "    next_word = TimeDistributed(\n",
        "        Dense(MAX_VOCAB_SIZE, activation='softmax'),\n",
        "        name='next_word_softmax'\n",
        "    )(next_word_dense)\n",
        "    \n",
        "    return Model(inputs=[encoder_input, last_word_input], outputs=[next_word])\n",
        "\n",
        "s2s_model = create_model()\n",
        "optimizer = Adam(lr=LEARNING_RATE, clipvalue=5.0)\n",
        "s2s_model.compile(optimizer='adam', loss='categorical_crossentropy')"
      ],
      "execution_count": 0,
      "outputs": []
    },
    {
      "cell_type": "markdown",
      "metadata": {
        "_cell_guid": "37dc7acc-ed74-4933-9182-b4329258d31f",
        "_uuid": "261fdad98295fa395592a5a6bf60806151a51c74",
        "id": "Si7gMoYsOT5U",
        "colab_type": "text"
      },
      "source": [
        "## Model Training\n"
      ]
    },
    {
      "cell_type": "code",
      "metadata": {
        "_cell_guid": "db2eee93-8070-4572-962e-c7225b20d2e4",
        "_uuid": "464355ec34af2c192723e66222c036826ac323f7",
        "id": "teByHGXrOT5V",
        "colab_type": "code",
        "colab": {}
      },
      "source": [
        "def add_start_token(y_array):\n",
        "    \"\"\" Adds the start token to vectors.  Used for training data. \"\"\"\n",
        "    return np.hstack([\n",
        "        START * np.ones((len(y_array), 1)),\n",
        "        y_array[:, :-1],\n",
        "    ])\n",
        "\n",
        "def binarize_labels(labels):\n",
        "    \"\"\" Helper function that turns integer word indexes into sparse binary matrices for \n",
        "        the expected model output.\n",
        "    \"\"\"\n",
        "    return np.array([np_utils.to_categorical(row, num_classes=MAX_VOCAB_SIZE)\n",
        "                     for row in labels])"
      ],
      "execution_count": 0,
      "outputs": []
    },
    {
      "cell_type": "code",
      "metadata": {
        "_cell_guid": "ce33ef3c-90df-4d3f-aad7-82db7b8cbf38",
        "_uuid": "982ca948fcf372ba6d29cc1872b9667c8e7c678f",
        "id": "Qe-Nz_03OT5b",
        "colab_type": "code",
        "colab": {}
      },
      "source": [
        "def respond_to(model, text):\n",
        "    \"\"\" Helper function that takes a text input and provides a text output. \"\"\"\n",
        "    input_y = add_start_token(PAD * np.ones((1, MAX_MESSAGE_LEN)))\n",
        "    idxs = np.array(to_word_idx(text)).reshape((1, MAX_MESSAGE_LEN))\n",
        "    for position in range(MAX_MESSAGE_LEN - 1):\n",
        "        prediction = model.predict([idxs, input_y]).argmax(axis=2)[0]\n",
        "        input_y[:,position + 1] = prediction[position]\n",
        "    return from_word_idx(model.predict([idxs, input_y]).argmax(axis=2)[0])"
      ],
      "execution_count": 0,
      "outputs": []
    },
    {
      "cell_type": "code",
      "metadata": {
        "_cell_guid": "3fb77b82-c4c3-4328-89a9-4c679744018c",
        "_uuid": "134fb65418234dd849a6d0147f95728373ea80a0",
        "id": "vg_9aGVDOT5e",
        "colab_type": "code",
        "colab": {}
      },
      "source": [
        "def train_mini_epoch(model, start_idx, end_idx):\n",
        "\n",
        "    b_train_y = binarize_labels(train_y[start_idx:end_idx])\n",
        "    input_train_y = add_start_token(train_y[start_idx:end_idx])\n",
        "    \n",
        "    model.fit(\n",
        "        [train_x[start_idx:end_idx], input_train_y], \n",
        "        b_train_y,\n",
        "        epochs=1,\n",
        "        batch_size=BATCH_SIZE,\n",
        "    )\n",
        "    \n",
        "    rand_idx = random.sample(list(range(len(test_x))), SUB_BATCH_SIZE)\n",
        "    print('Test results:', model.evaluate(\n",
        "        [test_x[rand_idx], add_start_token(test_y[rand_idx])],\n",
        "        binarize_labels(test_y[rand_idx])\n",
        "    ))\n",
        "    \n",
        "    input_strings = [\n",
        "        \"@AppleSupport I fix I this I stupid I problem I\",\n",
        "        \"@AmazonHelp I hadnt expected that such a big brand like amazon would have such a poor customer service.\",\n",
        "    ]\n",
        "    \n",
        "    for input_string in input_strings:\n",
        "        output_string = respond_to(model, input_string)\n",
        "        print(f'> \"{input_string}\"\\n< \"{output_string}\"')\n"
      ],
      "execution_count": 0,
      "outputs": []
    },
    {
      "cell_type": "markdown",
      "metadata": {
        "_cell_guid": "8a481fec-429a-45c5-bbb7-5f8f7e0e2487",
        "_uuid": "00e0850fe55d06f6d86c71c055ee45d8a0086c21",
        "id": "b8L67X2_OT5i",
        "colab_type": "text"
      },
      "source": [
        "### Train the model!\n"
      ]
    },
    {
      "cell_type": "code",
      "metadata": {
        "_cell_guid": "450d8fd0-25b2-41cb-ad3b-dbb266568b72",
        "scrolled": false,
        "_uuid": "790bb2978f320f7988f0e850026f264a434b5c3e",
        "id": "2w-kCkVVOT5j",
        "colab_type": "code",
        "colab": {
          "base_uri": "https://localhost:8080/",
          "height": 1000
        },
        "outputId": "054bc4ab-6015-4d89-d3cd-f8be93daab3c"
      },
      "source": [
        "training_time_limit = 360 * 60  # seconds (notebooks terminate after 1 hour)\n",
        "start_time = time.time()\n",
        "stop_after = start_time + training_time_limit\n",
        "\n",
        "class TimesUpInterrupt(Exception):\n",
        "    pass\n",
        "\n",
        "try:\n",
        "    for epoch in range(100):\n",
        "        print(f'Training in epoch {epoch}...')\n",
        "        for start_idx in range(0, len(train_x), SUB_BATCH_SIZE):\n",
        "            train_mini_epoch(s2s_model, start_idx, start_idx + SUB_BATCH_SIZE)\n",
        "            if time.time() > stop_after:\n",
        "                raise TimesUpInterrupt\n",
        "except KeyboardInterrupt:\n",
        "    print(\"Halting training from keyboard interrupt.\")\n",
        "except TimesUpInterrupt:\n",
        "    print(f\"Halting after {time.time() - start_time} seconds spent training.\")"
      ],
      "execution_count": 24,
      "outputs": [
        {
          "output_type": "stream",
          "text": [
            "Training in epoch 0...\n",
            "Epoch 1/1\n",
            "1000/1000 [==============================] - 431s 431ms/step - loss: 4.7927\n",
            "1000/1000 [==============================] - 100s 100ms/step\n",
            "Test results: 4.230677749633789\n",
            "> \"@AppleSupport I fix I this I stupid I problem I\"\n",
            "< \"@__sn__ hi , , , , , , , , , , . .\"\n",
            "> \"@AmazonHelp I hadnt expected that such a big brand like amazon would have such a poor customer service.\"\n",
            "< \"@__sn__ hi , , , , , , , , , , . .\"\n",
            "Epoch 1/1\n",
            "1000/1000 [==============================] - 421s 421ms/step - loss: 4.0194\n",
            "1000/1000 [==============================] - 100s 100ms/step\n",
            "Test results: 3.844701509475708\n",
            "> \"@AppleSupport I fix I this I stupid I problem I\"\n",
            "< \"@__sn__ hi , sorry to hear to hear to the __unk__ . __unk__ . __unk__ __unk__ __unk__ __unk__ __unk__ __unk__ __unk__ __unk__ __unk__ __unk__ __unk__ __unk__ __unk__ __unk__ __unk__ __unk__\"\n",
            "> \"@AmazonHelp I hadnt expected that such a big brand like amazon would have such a poor customer service.\"\n",
            "< \"@__sn__ hi , sorry to hear to hear to hear to the __unk__ . __unk__ . __unk__ __unk__ __unk__ __unk__ __unk__ __unk__ __unk__ __unk__ __unk__ __unk__ __unk__ __unk__ __unk__ __unk__\"\n",
            "Epoch 1/1\n",
            "1000/1000 [==============================] - 428s 428ms/step - loss: 3.7378\n",
            "1000/1000 [==============================] - 100s 100ms/step\n",
            "Test results: 3.6805300216674803\n",
            "> \"@AppleSupport I fix I this I stupid I problem I\"\n",
            "< \"@__sn__ hi __unk__ , __unk__ __unk__ __unk__ __unk__ __unk__ __unk__ __unk__ __unk__ __unk__ __unk__ __unk__ __unk__ __unk__ __unk__ __unk__ __unk__ __unk__ __unk__ __unk__ __unk__ __unk__\"\n",
            "> \"@AmazonHelp I hadnt expected that such a big brand like amazon would have such a poor customer service.\"\n",
            "< \"@__sn__ hi __unk__ , __unk__ __unk__ __unk__ __unk__ __unk__ __unk__ __unk__ __unk__ __unk__ __unk__ __unk__ __unk__ __unk__ __unk__ __unk__ __unk__ __unk__ __unk__ __unk__ __unk__ __unk__\"\n",
            "Epoch 1/1\n",
            "1000/1000 [==============================] - 431s 431ms/step - loss: 3.4528\n",
            "1000/1000 [==============================] - 100s 100ms/step\n",
            "Test results: 3.4413250885009767\n",
            "> \"@AppleSupport I fix I this I stupid I problem I\"\n",
            "< \"@__sn__ hi , __unk__ . please dm us a dm with your account number , we can assist you .\"\n",
            "> \"@AmazonHelp I hadnt expected that such a big brand like amazon would have such a poor customer service.\"\n",
            "< \"@__sn__ hi , __unk__ . please dm us a dm with your account number and we can assist you .\"\n",
            "Epoch 1/1\n",
            "1000/1000 [==============================] - 430s 430ms/step - loss: 3.2958\n",
            "1000/1000 [==============================] - 100s 100ms/step\n",
            "Test results: 3.293362361907959\n",
            "> \"@AppleSupport I fix I this I stupid I problem I\"\n",
            "< \"@__sn__ hi there , we can help . please dm us your email address and we'll take a look at you .\"\n",
            "> \"@AmazonHelp I hadnt expected that such a big brand like amazon would have such a poor customer service.\"\n",
            "< \"@__sn__ hi there , we can help . please dm us your email address and we'll take a look at you .\"\n",
            "Epoch 1/1\n",
            "1000/1000 [==============================] - 429s 429ms/step - loss: 3.2519\n",
            "1000/1000 [==============================] - 100s 100ms/step\n",
            "Test results: 3.2460854568481445\n",
            "> \"@AppleSupport I fix I this I stupid I problem I\"\n",
            "< \"@__sn__ hi there , we can help you . please dm us your email address and address so we can connect .\"\n",
            "> \"@AmazonHelp I hadnt expected that such a big brand like amazon would have such a poor customer service.\"\n",
            "< \"@__sn__ hi there , we can help you . please dm us your email address and address so we can connect .\"\n",
            "Epoch 1/1\n",
            "1000/1000 [==============================] - 430s 430ms/step - loss: 3.2199\n",
            "1000/1000 [==============================] - 100s 100ms/step\n",
            "Test results: 3.1583338394165037\n",
            "> \"@AppleSupport I fix I this I stupid I problem I\"\n",
            "< \"@__sn__ hi there , we want to help . please send us a dm with your email address so we can connect .\"\n",
            "> \"@AmazonHelp I hadnt expected that such a big brand like amazon would have such a poor customer service.\"\n",
            "< \"@__sn__ hi there , we want to help . please send us a dm with your email address so we can connect .\"\n",
            "Epoch 1/1\n",
            "1000/1000 [==============================] - 430s 430ms/step - loss: 3.1387\n",
            "1000/1000 [==============================] - 100s 100ms/step\n",
            "Test results: 3.048003023147583\n",
            "> \"@AppleSupport I fix I this I stupid I problem I\"\n",
            "< \"@__sn__ hi there , we can help . please dm us your account number and we'll be happy to help .\"\n",
            "> \"@AmazonHelp I hadnt expected that such a big brand like amazon would have such a poor customer service.\"\n",
            "< \"@__sn__ hi there , we can help . please dm us your account number and we'll be happy to help .\"\n",
            "Epoch 1/1\n",
            "1000/1000 [==============================] - 429s 429ms/step - loss: 3.0409\n",
            "1000/1000 [==============================] - 100s 100ms/step\n",
            "Test results: 2.9882789821624756\n",
            "> \"@AppleSupport I fix I this I stupid I problem I\"\n",
            "< \"@__sn__ hi there , we can help . send us a dm with your email address and we'll follow up .\"\n",
            "> \"@AmazonHelp I hadnt expected that such a big brand like amazon would have such a poor customer service.\"\n",
            "< \"@__sn__ hi there , we can help . send us a dm with your email address and we'll follow up .\"\n",
            "Epoch 1/1\n",
            "1000/1000 [==============================] - 430s 430ms/step - loss: 3.0535\n",
            "1000/1000 [==============================] - 100s 100ms/step\n",
            "Test results: 2.9383372173309326\n",
            "> \"@AppleSupport I fix I this I stupid I problem I\"\n",
            "< \"@__sn__ hi there , we want to help . please dm us your account number and we'll take a look at this for you . ^ __unk__\"\n",
            "> \"@AmazonHelp I hadnt expected that such a big brand like amazon would have such a poor customer service.\"\n",
            "< \"@__sn__ hi there , we want to help . please dm us your account number and we'll take a look at this for you . ^ __unk__\"\n",
            "Epoch 1/1\n",
            "1000/1000 [==============================] - 429s 429ms/step - loss: 2.9541\n",
            "1000/1000 [==============================] - 100s 100ms/step\n",
            "Test results: 2.885694055557251\n",
            "> \"@AppleSupport I fix I this I stupid I problem I\"\n",
            "< \"@__sn__ hi , __unk__ . we are able to be able to help . ^ __unk__\"\n",
            "> \"@AmazonHelp I hadnt expected that such a big brand like amazon would have such a poor customer service.\"\n",
            "< \"@__sn__ hi , __unk__ . we are able to be able to help . ^ __unk__\"\n",
            "Epoch 1/1\n",
            "1000/1000 [==============================] - 430s 430ms/step - loss: 2.9102\n",
            "1000/1000 [==============================] - 99s 99ms/step\n",
            "Test results: 2.853660343170166\n",
            "> \"@AppleSupport I fix I this I stupid I problem I\"\n",
            "< \"@__sn__ hi , __unk__ . we can help you please dm us your account number , and we'll be happy to help you . ^ __unk__\"\n",
            "> \"@AmazonHelp I hadnt expected that such a big brand like amazon would have such a poor customer service.\"\n",
            "< \"@__sn__ hi , __unk__ . we can help you please dm us your account number , and we'll be happy to help you . ^ __unk__\"\n",
            "Epoch 1/1\n",
            "1000/1000 [==============================] - 430s 430ms/step - loss: 2.7994\n",
            "1000/1000 [==============================] - 100s 100ms/step\n",
            "Test results: 2.8719841251373293\n",
            "> \"@AppleSupport I fix I this I stupid I problem I\"\n",
            "< \"@__sn__ hi there ! we want to help you . please send us a dm with your email address so we can connect .\"\n",
            "> \"@AmazonHelp I hadnt expected that such a big brand like amazon would have such a poor customer service.\"\n",
            "< \"@__sn__ hi there ! we want to help you . please send us a dm with your email address so we can connect .\"\n",
            "Epoch 1/1\n",
            "1000/1000 [==============================] - 430s 430ms/step - loss: 2.8287\n",
            "1000/1000 [==============================] - 100s 100ms/step\n",
            "Test results: 2.8537467041015625\n",
            "> \"@AppleSupport I fix I this I stupid I problem I\"\n",
            "< \"@__sn__ hi there , we want to help . please dm us your full name , address and phone number and address . - __unk__\"\n",
            "> \"@AmazonHelp I hadnt expected that such a big brand like amazon would have such a poor customer service.\"\n",
            "< \"@__sn__ hi there , we want to help . please dm us your full name , address and phone number and address . - __unk__\"\n",
            "Epoch 1/1\n",
            "1000/1000 [==============================] - 429s 429ms/step - loss: 2.7927\n",
            "1000/1000 [==============================] - 100s 100ms/step\n",
            "Test results: 2.7722094440460205\n",
            "> \"@AppleSupport I fix I this I stupid I problem I\"\n",
            "< \"@__sn__ hi there , we can help you with your order . please dm your full name , address and email address and address . ^ __unk__\"\n",
            "> \"@AmazonHelp I hadnt expected that such a big brand like amazon would have such a poor customer service.\"\n",
            "< \"@__sn__ hi there , we can help you with your order . please dm your full name , address and email address and address . ^ __unk__\"\n",
            "Epoch 1/1\n",
            "1000/1000 [==============================] - 429s 429ms/step - loss: 2.7929\n",
            "1000/1000 [==============================] - 100s 100ms/step\n",
            "Test results: 2.6912972774505617\n",
            "> \"@AppleSupport I fix I this I stupid I problem I\"\n",
            "< \"@__sn__ hi , we are here to help . please dm us your account's email address so we can look into this for you . ^ __unk__\"\n",
            "> \"@AmazonHelp I hadnt expected that such a big brand like amazon would have such a poor customer service.\"\n",
            "< \"@__sn__ hi , we are here to help . please dm us your account's email address so we can look into this for you . ^ __unk__\"\n",
            "Epoch 1/1\n",
            "1000/1000 [==============================] - 430s 430ms/step - loss: 2.6979\n",
            "1000/1000 [==============================] - 100s 100ms/step\n",
            "Test results: 2.6986339168548583\n",
            "> \"@AppleSupport I fix I this I stupid I problem I\"\n",
            "< \"@__sn__ hi there , we can definitely look into this for you . please dm us your account's email address and username ? we'll take a look backstage / __unk__\"\n",
            "> \"@AmazonHelp I hadnt expected that such a big brand like amazon would have such a poor customer service.\"\n",
            "< \"@__sn__ hi there , we can definitely look into this for you . please dm us your account's email address and username ? we'll take a look backstage / __unk__\"\n",
            "Epoch 1/1\n",
            "1000/1000 [==============================] - 429s 429ms/step - loss: 2.7075\n",
            "1000/1000 [==============================] - 100s 100ms/step\n",
            "Test results: 2.640310729980469\n",
            "> \"@AppleSupport I fix I this I stupid I problem I\"\n",
            "< \"@__sn__ hi , __unk__ . we have a great flight . ^ __unk__\"\n",
            "> \"@AmazonHelp I hadnt expected that such a big brand like amazon would have such a poor customer service.\"\n",
            "< \"@__sn__ hi , __unk__ . we have a great flight . ^ __unk__\"\n",
            "Epoch 1/1\n",
            "1000/1000 [==============================] - 430s 430ms/step - loss: 2.7190\n",
            "1000/1000 [==============================] - 100s 100ms/step\n",
            "Test results: 2.6720089263916016\n",
            "> \"@AppleSupport I fix I this I stupid I problem I\"\n",
            "< \"@__sn__ hi , we are working to be able to help . please dm us your full name , address , and phone number . - __unk__\"\n",
            "> \"@AmazonHelp I hadnt expected that such a big brand like amazon would have such a poor customer service.\"\n",
            "< \"@__sn__ hi , we are working to be able to help . please dm us your full name , address , and phone number . - __unk__\"\n",
            "Epoch 1/1\n",
            "1000/1000 [==============================] - 430s 430ms/step - loss: 2.6678\n",
            "1000/1000 [==============================] - 100s 100ms/step\n",
            "Test results: 2.6590885105133055\n",
            "> \"@AppleSupport I fix I this I stupid I problem I\"\n",
            "< \"@__sn__ hi there , we are sorry to hear that . please dm us your full address , address , and phone number . - __unk__\"\n",
            "> \"@AmazonHelp I hadnt expected that such a big brand like amazon would have such a poor customer service.\"\n",
            "< \"@__sn__ hi there , we are sorry to hear that . please dm us your full address , address , and phone number . - __unk__\"\n",
            "Epoch 1/1\n",
            "1000/1000 [==============================] - 430s 430ms/step - loss: 2.6541\n",
            "1000/1000 [==============================] - 100s 100ms/step\n",
            "Test results: 2.6293693675994874\n",
            "> \"@AppleSupport I fix I this I stupid I problem I\"\n",
            "< \"@__sn__ hi , __unk__ . we are sorry for the delay . please dm us your email address and phone number , and address . - __unk__\"\n",
            "> \"@AmazonHelp I hadnt expected that such a big brand like amazon would have such a poor customer service.\"\n",
            "< \"@__sn__ hi , __unk__ . we are sorry for the delay . please dm us your email address and phone number , and address . - __unk__\"\n",
            "Epoch 1/1\n",
            "1000/1000 [==============================] - 429s 429ms/step - loss: 2.6568\n",
            "1000/1000 [==============================] - 100s 100ms/step\n",
            "Test results: 2.586440431594849\n",
            "> \"@AppleSupport I fix I this I stupid I problem I\"\n",
            "< \"@__sn__ hi , we are here to help . please send us a dm with your email address and we'll be in touch .\"\n",
            "> \"@AmazonHelp I hadnt expected that such a big brand like amazon would have such a poor customer service.\"\n",
            "< \"@__sn__ hi , we are here to help . please send us a dm with your email address and we'll be in touch .\"\n",
            "Epoch 1/1\n",
            "1000/1000 [==============================] - 430s 430ms/step - loss: 2.6300\n",
            "1000/1000 [==============================] - 100s 100ms/step\n",
            "Test results: 2.6073296909332275\n",
            "> \"@AppleSupport I fix I this I stupid I problem I\"\n",
            "< \"@__sn__ hi , __unk__ . we are here to help . please dm us your full name , address , and phone number . - __unk__\"\n",
            "> \"@AmazonHelp I hadnt expected that such a big brand like amazon would have such a poor customer service.\"\n",
            "< \"@__sn__ hi , __unk__ . we are here to help . please dm us your full name , address , and phone number . - __unk__\"\n",
            "Epoch 1/1\n",
            "1000/1000 [==============================] - 430s 430ms/step - loss: 2.6412\n",
            "1000/1000 [==============================] - 100s 100ms/step\n",
            "Test results: 2.581874572753906\n",
            "> \"@AppleSupport I fix I this I stupid I problem I\"\n",
            "< \"@__sn__ hi there , i am sorry to hear this . please dm us your account number and i will be happy to help . ^ __unk__\"\n",
            "> \"@AmazonHelp I hadnt expected that such a big brand like amazon would have such a poor customer service.\"\n",
            "< \"@__sn__ hi there , i am sorry to hear this . please dm us your account number and i will be happy to help . ^ __unk__\"\n",
            "Epoch 1/1\n",
            "1000/1000 [==============================] - 430s 430ms/step - loss: 2.6282\n",
            "1000/1000 [==============================] - 100s 100ms/step\n",
            "Test results: 2.5555903110504152\n",
            "> \"@AppleSupport I fix I this I stupid I problem I\"\n",
            "< \"@__sn__ hi , __unk__ . we are sorry for the delay . please dm us your email address and we'll take a look .\"\n",
            "> \"@AmazonHelp I hadnt expected that such a big brand like amazon would have such a poor customer service.\"\n",
            "< \"@__sn__ hi , __unk__ . we are sorry for the delay . please dm us your email address and we'll take a look .\"\n",
            "Epoch 1/1\n",
            "1000/1000 [==============================] - 429s 429ms/step - loss: 2.6215\n",
            "1000/1000 [==============================] - 100s 100ms/step\n",
            "Test results: 2.5641842174530027\n",
            "> \"@AppleSupport I fix I this I stupid I problem I\"\n",
            "< \"@__sn__ hi , __unk__ . we are here to help . please dm us your email address and more details so we can follow up .\"\n",
            "> \"@AmazonHelp I hadnt expected that such a big brand like amazon would have such a poor customer service.\"\n",
            "< \"@__sn__ hi , __unk__ . we are here to help . please dm us your email address and more details so we can follow up .\"\n",
            "Epoch 1/1\n",
            "1000/1000 [==============================] - 430s 430ms/step - loss: 2.5788\n",
            "1000/1000 [==============================] - 100s 100ms/step\n",
            "Test results: 2.5164594535827636\n",
            "> \"@AppleSupport I fix I this I stupid I problem I\"\n",
            "< \"@__sn__ hi there , we are sorry to hear this . please dm us your full name , address , email address , and phone number . ^ __unk__\"\n",
            "> \"@AmazonHelp I hadnt expected that such a big brand like amazon would have such a poor customer service.\"\n",
            "< \"@__sn__ hi there , we are sorry to hear this . please dm us your full name , address , email address , and phone number . ^ __unk__\"\n",
            "Epoch 1/1\n",
            "1000/1000 [==============================] - 429s 429ms/step - loss: 2.6013\n",
            "1000/1000 [==============================] - 100s 100ms/step\n",
            "Test results: 2.524696050643921\n",
            "> \"@AppleSupport I fix I this I stupid I problem I\"\n",
            "< \"@__sn__ hi there , i am sorry to hear this . please dm us your full name , address , address , and address to assist you . - __unk__\"\n",
            "> \"@AmazonHelp I hadnt expected that such a big brand like amazon would have such a poor customer service.\"\n",
            "< \"@__sn__ hi there , i am sorry to hear this . please dm us your full name , address , address , and address to assist you . - __unk__\"\n",
            "Epoch 1/1\n",
            "1000/1000 [==============================] - 430s 430ms/step - loss: 2.5400\n",
            "1000/1000 [==============================] - 100s 100ms/step\n",
            "Test results: 2.5297537631988525\n",
            "> \"@AppleSupport I fix I this I stupid I problem I\"\n",
            "< \"@__sn__ hi there , we would like to look into this for you . please dm us your account number and phone number . - __unk__\"\n",
            "> \"@AmazonHelp I hadnt expected that such a big brand like amazon would have such a poor customer service.\"\n",
            "< \"@__sn__ hi there , we would like to look into this for you . please dm us your account number and phone number . - __unk__\"\n",
            "Epoch 1/1\n",
            "1000/1000 [==============================] - 430s 430ms/step - loss: 2.5394\n",
            "1000/1000 [==============================] - 100s 100ms/step\n",
            "Test results: 2.5366070556640623\n",
            "> \"@AppleSupport I fix I this I stupid I problem I\"\n",
            "< \"@__sn__ hi there ! we have a great flight . ^ pa\"\n",
            "> \"@AmazonHelp I hadnt expected that such a big brand like amazon would have such a poor customer service.\"\n",
            "< \"@__sn__ hi there ! we have a great flight . ^ pa\"\n",
            "Epoch 1/1\n",
            "1000/1000 [==============================] - 429s 429ms/step - loss: 2.5730\n",
            "1000/1000 [==============================] - 100s 100ms/step\n",
            "Test results: 2.51874591255188\n",
            "> \"@AppleSupport I fix I this I stupid I problem I\"\n",
            "< \"@__sn__ hi there , we are sorry to hear this . please dm us your full name , address and phone number . - __unk__\"\n",
            "> \"@AmazonHelp I hadnt expected that such a big brand like amazon would have such a poor customer service.\"\n",
            "< \"@__sn__ hi there , we are sorry to hear this . please dm us your full name , address and phone number . - __unk__\"\n",
            "Epoch 1/1\n",
            "1000/1000 [==============================] - 429s 429ms/step - loss: 2.5639\n",
            "1000/1000 [==============================] - 100s 100ms/step\n",
            "Test results: 2.4682638816833498\n",
            "> \"@AppleSupport I fix I this I stupid I problem I\"\n",
            "< \"@__sn__ hi there , i apologize for the inconvenience . please dm your full name , address , and phone number . - __unk__\"\n",
            "> \"@AmazonHelp I hadnt expected that such a big brand like amazon would have such a poor customer service.\"\n",
            "< \"@__sn__ hi there , i apologize for the inconvenience . please dm your full name , address , and phone number . - __unk__\"\n",
            "Epoch 1/1\n",
            "1000/1000 [==============================] - 430s 430ms/step - loss: 2.5348\n",
            "1000/1000 [==============================] - 100s 100ms/step\n",
            "Test results: 2.5612055473327637\n",
            "> \"@AppleSupport I fix I this I stupid I problem I\"\n",
            "< \"@__sn__ hi there ! we can help you with your order . please dm your full name , address , and address . - __unk__\"\n",
            "> \"@AmazonHelp I hadnt expected that such a big brand like amazon would have such a poor customer service.\"\n",
            "< \"@__sn__ hi there ! we can help you with your order . please dm your full name , address , and address . - __unk__\"\n",
            "Epoch 1/1\n",
            "1000/1000 [==============================] - 430s 430ms/step - loss: 2.4416\n",
            "1000/1000 [==============================] - 100s 100ms/step\n",
            "Test results: 2.446398838043213\n",
            "> \"@AppleSupport I fix I this I stupid I problem I\"\n",
            "< \"@__sn__ hi there , we are sorry to hear this . please dm us your full name , address , and phone number . - __unk__\"\n",
            "> \"@AmazonHelp I hadnt expected that such a big brand like amazon would have such a poor customer service.\"\n",
            "< \"@__sn__ hi there , we are sorry to hear this . please dm us your full name , address , and phone number . - __unk__\"\n",
            "Epoch 1/1\n",
            "1000/1000 [==============================] - 430s 430ms/step - loss: 2.4668\n",
            "1000/1000 [==============================] - 100s 100ms/step\n",
            "Test results: 2.419293170928955\n",
            "> \"@AppleSupport I fix I this I stupid I problem I\"\n",
            "< \"@__sn__ hi there ! we are here to help . please dm us your tracking number , phone number , and phone number . ^ __unk__ https://t.co/znuu1vjn9r\"\n",
            "> \"@AmazonHelp I hadnt expected that such a big brand like amazon would have such a poor customer service.\"\n",
            "< \"@__sn__ hi there ! we are here to help . please dm us your tracking number , phone number , and phone number . ^ __unk__ https://t.co/znuu1vjn9r\"\n",
            "Epoch 1/1\n",
            "1000/1000 [==============================] - 430s 430ms/step - loss: 2.4511\n",
            "1000/1000 [==============================] - 100s 100ms/step\n",
            "Test results: 2.478347936630249\n",
            "> \"@AppleSupport I fix I this I stupid I problem I\"\n",
            "< \"@__sn__ hi there ! please dm us your contact info and we'll be happy to help .\"\n",
            "> \"@AmazonHelp I hadnt expected that such a big brand like amazon would have such a poor customer service.\"\n",
            "< \"@__sn__ hi there ! please dm us your contact info and we'll be happy to help .\"\n",
            "Epoch 1/1\n",
            "1000/1000 [==============================] - 429s 429ms/step - loss: 2.4174\n",
            "1000/1000 [==============================] - 100s 100ms/step\n",
            "Test results: 2.4569163284301756\n",
            "> \"@AppleSupport I fix I this I stupid I problem I\"\n",
            "< \"@__sn__ hi , __unk__ . we are sorry to hear this . please dm us your confirmation number , and phone number . ^ __unk__ https://t.co/wkjhdxwgrq\"\n",
            "> \"@AmazonHelp I hadnt expected that such a big brand like amazon would have such a poor customer service.\"\n",
            "< \"@__sn__ hi , __unk__ . we are sorry to hear this . please dm us your confirmation number , and phone number . ^ __unk__ https://t.co/wkjhdxwgrq\"\n",
            "Epoch 1/1\n",
            "1000/1000 [==============================] - 430s 430ms/step - loss: 2.4402\n",
            "1000/1000 [==============================] - 100s 100ms/step\n",
            "Test results: 2.4466941108703613\n",
            "> \"@AppleSupport I fix I this I stupid I problem I\"\n",
            "< \"@__sn__ hi there ! can you dm us your account's email address or username ? we'll take a look backstage / __unk__ https://t.co/ldfdzrinat\"\n",
            "> \"@AmazonHelp I hadnt expected that such a big brand like amazon would have such a poor customer service.\"\n",
            "< \"@__sn__ hi there ! can you dm us your account's email address or username ? we'll take a look backstage / __unk__ https://t.co/ldfdzrinat\"\n",
            "Epoch 1/1\n",
            "1000/1000 [==============================] - 430s 430ms/step - loss: 2.4728\n",
            "1000/1000 [==============================] - 100s 100ms/step\n",
            "Test results: 2.4792107696533203\n",
            "> \"@AppleSupport I fix I this I stupid I problem I\"\n",
            "< \"@__sn__ hi , we are sorry to hear this . please dm us your account number and we'll be happy to help . ^ __unk__\"\n",
            "> \"@AmazonHelp I hadnt expected that such a big brand like amazon would have such a poor customer service.\"\n",
            "< \"@__sn__ hi , we are sorry to hear this . please dm us your account number and we'll be happy to help . ^ __unk__\"\n",
            "Epoch 1/1\n",
            "1000/1000 [==============================] - 430s 430ms/step - loss: 2.4395\n",
            "1000/1000 [==============================] - 100s 100ms/step\n",
            "Test results: 2.4355118656158448\n",
            "> \"@AppleSupport I fix I this I stupid I problem I\"\n",
            "< \"@__sn__ hi , __unk__ . we are sorry to hear this . please dm us your idea number and we'll be happy to help you . ^ __unk__\"\n",
            "> \"@AmazonHelp I hadnt expected that such a big brand like amazon would have such a poor customer service.\"\n",
            "< \"@__sn__ hi , __unk__ . we are sorry to hear this . please dm us your idea number and we'll be happy to help you . ^ __unk__\"\n",
            "Halting after 21698.878789424896 seconds spent training.\n"
          ],
          "name": "stdout"
        }
      ]
    },
    {
      "cell_type": "code",
      "metadata": {
        "_cell_guid": "18a421a1-41d7-4c87-988d-74fa8dc85992",
        "_uuid": "8ebd6c01cd3a7e75810f9fc48b4d2ad913f9f410",
        "id": "KzhqOC6rOT5q",
        "colab_type": "code",
        "colab": {
          "base_uri": "https://localhost:8080/",
          "height": 33
        },
        "outputId": "11463b55-5069-46ed-8f87-96ee78a83f12"
      },
      "source": [
        "respond_to(s2s_model, '''@AppleSupport iPhone 8 touchID doesnt unlock while charging on \n",
        "    110v w/ 61w laptop charger to usbc lightning cable just uh.. so you guys know''')"
      ],
      "execution_count": 25,
      "outputs": [
        {
          "output_type": "execute_result",
          "data": {
            "text/plain": [
              "\"@__sn__ hi , __unk__ . we are sorry to hear this . please dm us your idea number and we'll be happy to help you . ^ __unk__\""
            ]
          },
          "metadata": {
            "tags": []
          },
          "execution_count": 25
        }
      ]
    },
    {
      "cell_type": "code",
      "metadata": {
        "_cell_guid": "1445794c-c26f-4dc9-a38e-90b98ee206cb",
        "_uuid": "f7e4303f8ee7d2def95c95b166b6fac8727217f5",
        "id": "DETfGqLeOT5x",
        "colab_type": "code",
        "colab": {
          "base_uri": "https://localhost:8080/",
          "height": 33
        },
        "outputId": "05b852e3-c30d-44f8-dfe4-f605b749b63d"
      },
      "source": [
        "# serialize model to JSON\n",
        "model_json = s2s_model.to_json()\n",
        "with open(\"model.json\", \"w\") as json_file:\n",
        "    json_file.write(model_json)\n",
        "# serialize weights to HDF5\n",
        "s2s_model.save_weights(\"model.h5\")\n",
        "print(\"Saved model to disk\")"
      ],
      "execution_count": 28,
      "outputs": [
        {
          "output_type": "stream",
          "text": [
            "Saved model to disk\n"
          ],
          "name": "stdout"
        }
      ]
    },
    {
      "cell_type": "code",
      "metadata": {
        "id": "J_VrDjZa3G1S",
        "colab_type": "code",
        "colab": {
          "base_uri": "https://localhost:8080/",
          "height": 33
        },
        "outputId": "c2b183b4-0189-4b52-f055-26ed5b3cd789"
      },
      "source": [
        " #load json and create model\n",
        "from keras.models import model_from_json\n",
        "json_file = open('model.json', 'r')\n",
        "loaded_model_json = json_file.read()\n",
        "json_file.close()\n",
        "loaded_model = model_from_json(loaded_model_json)\n",
        "# load weights into new model\n",
        "loaded_model.load_weights(\"model.h5\")\n",
        "print(\"Loaded model from disk\")\n"
      ],
      "execution_count": 30,
      "outputs": [
        {
          "output_type": "stream",
          "text": [
            "Loaded model from disk\n"
          ],
          "name": "stdout"
        }
      ]
    }
  ]
}